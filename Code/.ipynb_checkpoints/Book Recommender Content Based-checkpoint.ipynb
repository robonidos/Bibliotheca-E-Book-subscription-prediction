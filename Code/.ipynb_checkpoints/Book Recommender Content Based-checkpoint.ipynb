{
 "cells": [
  {
   "cell_type": "code",
   "execution_count": 313,
   "metadata": {},
   "outputs": [],
   "source": [
    "import pandas as pd\n",
    "from rake_nltk import Rake\n",
    "import numpy as np\n",
    "from sklearn.metrics.pairwise import cosine_similarity\n",
    "from sklearn.feature_extraction.text import CountVectorizer"
   ]
  },
  {
   "cell_type": "code",
   "execution_count": 314,
   "metadata": {},
   "outputs": [
    {
     "data": {
      "text/html": [
       "\n",
       "<style>\n",
       "    div#notebook-container    { width: 90%; }\n",
       "    div#menubar-container     { width: 65%; }\n",
       "    div#maintoolbar-container { width: 90%; }\n",
       "</style>\n"
      ],
      "text/plain": [
       "<IPython.core.display.HTML object>"
      ]
     },
     "metadata": {},
     "output_type": "display_data"
    }
   ],
   "source": [
    "from IPython.display import display, HTML\n",
    "display(HTML(data=\"\"\"\n",
    "<style>\n",
    "    div#notebook-container    { width: 90%; }\n",
    "    div#menubar-container     { width: 65%; }\n",
    "    div#maintoolbar-container { width: 90%; }\n",
    "</style>\n",
    "\"\"\"))\n",
    "pd.set_option('display.max_columns', 100)"
   ]
  },
  {
   "cell_type": "code",
   "execution_count": 315,
   "metadata": {},
   "outputs": [],
   "source": [
    "df_rated_book_per_user =pd.read_csv('C://Users//rupadhyay//Desktop//ML//Analytics Summit Bibliotheca E Book subscription prediction//Data//df_highest_rated_filtered.csv',encoding='latin1')"
   ]
  },
  {
   "cell_type": "code",
   "execution_count": 316,
   "metadata": {},
   "outputs": [],
   "source": [
    "df_master_test =pd.read_csv('C://Users//rupadhyay//Desktop//ML//Analytics Summit Bibliotheca E Book subscription prediction//Data//BOOKSMASTERTEST.csv',encoding='latin1')"
   ]
  },
  {
   "cell_type": "code",
   "execution_count": 317,
   "metadata": {},
   "outputs": [],
   "source": [
    "df_master_test.drop('GENRE.1', axis=1, inplace=True)"
   ]
  },
  {
   "cell_type": "code",
   "execution_count": 74,
   "metadata": {},
   "outputs": [
    {
     "data": {
      "text/plain": [
       "BookID                0\n",
       "GENRE                 0\n",
       "BOOKTITLE             0\n",
       "BOOKNAME              0\n",
       "SERIES              393\n",
       "AUTHOR                0\n",
       "USERRATINGS           0\n",
       "OTHERPRINTEDINFO      0\n",
       "DETAILS               0\n",
       "SUMMARY               0\n",
       "AUTHORDESC            0\n",
       "COVERPAGE             0\n",
       "Popularity            0\n",
       "dtype: int64"
      ]
     },
     "execution_count": 74,
     "metadata": {},
     "output_type": "execute_result"
    }
   ],
   "source": [
    "df_master_test.isnull().sum()"
   ]
  },
  {
   "cell_type": "code",
   "execution_count": 318,
   "metadata": {},
   "outputs": [],
   "source": [
    "df_master_test.drop('SERIES', axis=1, inplace=True)"
   ]
  },
  {
   "cell_type": "code",
   "execution_count": 319,
   "metadata": {},
   "outputs": [],
   "source": [
    "df_master_test['PAGES'] = df_master_test['OTHERPRINTEDINFO'].str.extract('(?P<PAGES>\\d* (?=pages))', expand=True)"
   ]
  },
  {
   "cell_type": "code",
   "execution_count": 320,
   "metadata": {},
   "outputs": [],
   "source": [
    "df_master_test['PUBLISH_YEAR'] = df_master_test['OTHERPRINTEDINFO'].str.extract('(?P<PUBLISH_YEAR>\\d* (?=by))', expand=True)"
   ]
  },
  {
   "cell_type": "code",
   "execution_count": 321,
   "metadata": {},
   "outputs": [
    {
     "data": {
      "text/plain": [
       "13"
      ]
     },
     "execution_count": 321,
     "metadata": {},
     "output_type": "execute_result"
    }
   ],
   "source": [
    "df_master_test['PAGES'].isnull().sum()"
   ]
  },
  {
   "cell_type": "code",
   "execution_count": 322,
   "metadata": {},
   "outputs": [],
   "source": [
    "df_master_test['PAGES'].fillna(0, inplace=True)\n",
    "df_master_test['PAGES'] = df_master_test['PAGES'].astype(str).astype(int)\n",
    "df_master_test['PAGES'] = df_master_test['PAGES'].replace(0,df_master_test['PAGES'].mean())"
   ]
  },
  {
   "cell_type": "code",
   "execution_count": 323,
   "metadata": {},
   "outputs": [
    {
     "data": {
      "text/plain": [
       "8"
      ]
     },
     "execution_count": 323,
     "metadata": {},
     "output_type": "execute_result"
    }
   ],
   "source": [
    "df_master_test['PUBLISH_YEAR'].isnull().sum()"
   ]
  },
  {
   "cell_type": "code",
   "execution_count": 324,
   "metadata": {},
   "outputs": [],
   "source": [
    "df_master_test['PUBLISH_YEAR'].fillna(0, inplace=True)"
   ]
  },
  {
   "cell_type": "code",
   "execution_count": 325,
   "metadata": {},
   "outputs": [
    {
     "name": "stderr",
     "output_type": "stream",
     "text": [
      "c:\\users\\rupadhyay\\python 3.6\\lib\\site-packages\\ipykernel_launcher.py:1: SettingWithCopyWarning: \n",
      "A value is trying to be set on a copy of a slice from a DataFrame\n",
      "\n",
      "See the caveats in the documentation: http://pandas.pydata.org/pandas-docs/stable/indexing.html#indexing-view-versus-copy\n",
      "  \"\"\"Entry point for launching an IPython kernel.\n"
     ]
    }
   ],
   "source": [
    "df_master_test.PUBLISH_YEAR[df_master_test.PUBLISH_YEAR == ' '] = 0\n",
    "df_master_test['PUBLISH_YEAR'] = df_master_test['PUBLISH_YEAR'].astype(str).astype(int)"
   ]
  },
  {
   "cell_type": "code",
   "execution_count": 83,
   "metadata": {},
   "outputs": [
    {
     "data": {
      "text/html": [
       "<div>\n",
       "<style scoped>\n",
       "    .dataframe tbody tr th:only-of-type {\n",
       "        vertical-align: middle;\n",
       "    }\n",
       "\n",
       "    .dataframe tbody tr th {\n",
       "        vertical-align: top;\n",
       "    }\n",
       "\n",
       "    .dataframe thead th {\n",
       "        text-align: right;\n",
       "    }\n",
       "</style>\n",
       "<table border=\"1\" class=\"dataframe\">\n",
       "  <thead>\n",
       "    <tr style=\"text-align: right;\">\n",
       "      <th></th>\n",
       "      <th>BookID</th>\n",
       "      <th>GENRE</th>\n",
       "      <th>BOOKTITLE</th>\n",
       "      <th>BOOKNAME</th>\n",
       "      <th>AUTHOR</th>\n",
       "      <th>USERRATINGS</th>\n",
       "      <th>OTHERPRINTEDINFO</th>\n",
       "      <th>DETAILS</th>\n",
       "      <th>SUMMARY</th>\n",
       "      <th>AUTHORDESC</th>\n",
       "      <th>COVERPAGE</th>\n",
       "      <th>Popularity</th>\n",
       "      <th>PAGES</th>\n",
       "      <th>PUBLISH_YEAR</th>\n",
       "    </tr>\n",
       "  </thead>\n",
       "  <tbody>\n",
       "    <tr>\n",
       "      <th>0</th>\n",
       "      <td>109615.0</td>\n",
       "      <td>Fiction</td>\n",
       "      <td>The Girls' Guide to Hunting and Fishing by Mel...</td>\n",
       "      <td>The Girls' Guide to Hunting and Fishing</td>\n",
       "      <td>Melissa Bank</td>\n",
       "      <td>3.31</td>\n",
       "      <td>['Paperback, 288 pages', 'Published March 29th...</td>\n",
       "      <td>[('Original Title', \"The Girls' Guide to Hunti...</td>\n",
       "      <td>Generous-hearted and wickedly insightful, The ...</td>\n",
       "      <td>\"Melissa Bank (born in 1961 in Philadelphia) i...</td>\n",
       "      <td>https://images.gr-assets.com/books/1309210476l...</td>\n",
       "      <td>1883.961984</td>\n",
       "      <td>288.0</td>\n",
       "      <td>2005</td>\n",
       "    </tr>\n",
       "    <tr>\n",
       "      <th>1</th>\n",
       "      <td>148159.0</td>\n",
       "      <td>Nonfiction</td>\n",
       "      <td>How Full Is Your Bucket?: Positive Strategies ...</td>\n",
       "      <td>How Full Is Your Bucket?: Positive Strategies ...</td>\n",
       "      <td>Tom Rath</td>\n",
       "      <td>3.86</td>\n",
       "      <td>[\"Hardcover, Educator's Edition, 224 pages\", '...</td>\n",
       "      <td>[('Original Title', 'How Full Is Your Bucket? ...</td>\n",
       "      <td>Based on a simple metaphor, the book features ...</td>\n",
       "      <td>ARE YOU FULLY CHARGED?, the latest national b...</td>\n",
       "      <td>https://images.gr-assets.com/books/1386923784l...</td>\n",
       "      <td>88.060588</td>\n",
       "      <td>224.0</td>\n",
       "      <td>2007</td>\n",
       "    </tr>\n",
       "    <tr>\n",
       "      <th>2</th>\n",
       "      <td>117280.0</td>\n",
       "      <td>Fiction</td>\n",
       "      <td>Eine gefangene Liebe by Anita Shreve</td>\n",
       "      <td>Eine gefangene Liebe</td>\n",
       "      <td>Anita Shreve</td>\n",
       "      <td>3.29</td>\n",
       "      <td>['Paperback, 252 pages', 'Published September ...</td>\n",
       "      <td>[('Original Title', 'Where or When'), ('ISBN',...</td>\n",
       "      <td>Charles Callahan is reading the Sunday paper w...</td>\n",
       "      <td>Anita Shreve was an American writer, chiefly k...</td>\n",
       "      <td>https://images.gr-assets.com/books/1172425279l...</td>\n",
       "      <td>99.257499</td>\n",
       "      <td>252.0</td>\n",
       "      <td>1999</td>\n",
       "    </tr>\n",
       "    <tr>\n",
       "      <th>3</th>\n",
       "      <td>164937.0</td>\n",
       "      <td>Classics</td>\n",
       "      <td>The Resurrection by Leo Tolstoy</td>\n",
       "      <td>The Resurrection</td>\n",
       "      <td>Leo Tolstoy</td>\n",
       "      <td>4.12</td>\n",
       "      <td>['Audio CD, 17 pages', 'Published March 1st 20...</td>\n",
       "      <td>[('Original Title', 'ÐÐ¾ÑÐºÑÐµÑÐµÐ½Ð¸Ðµ'),...</td>\n",
       "      <td>Leo Tolstoy stands tall among the great Russia...</td>\n",
       "      <td>Lev Nikolayevich Tolstoy (Russian: ÐÐµÐ² ÐÐ¸...</td>\n",
       "      <td>https://images.gr-assets.com/books/1347520060l...</td>\n",
       "      <td>212.280962</td>\n",
       "      <td>17.0</td>\n",
       "      <td>2005</td>\n",
       "    </tr>\n",
       "    <tr>\n",
       "      <th>4</th>\n",
       "      <td>172865.0</td>\n",
       "      <td>Nonfiction</td>\n",
       "      <td>Thrive: 30 Inspirational Rags-to-Riches Storie...</td>\n",
       "      <td>Thrive: 30 Inspirational Rags-to-Riches Stories</td>\n",
       "      <td>Jason Navallo</td>\n",
       "      <td>3.86</td>\n",
       "      <td>['Kindle Edition, 100 pages', 'Published April...</td>\n",
       "      <td>[('ASIN', 'B00WNHB59I'), ('Edition Language', ...</td>\n",
       "      <td>Thrive: 30 Inspirational Rags-to-Riches Storie...</td>\n",
       "      <td>Jason Navallo is the author of five books (Ame...</td>\n",
       "      <td>https://images.gr-assets.com/books/1430867773l...</td>\n",
       "      <td>4.039204</td>\n",
       "      <td>100.0</td>\n",
       "      <td>2015</td>\n",
       "    </tr>\n",
       "  </tbody>\n",
       "</table>\n",
       "</div>"
      ],
      "text/plain": [
       "     BookID       GENRE                                          BOOKTITLE  \\\n",
       "0  109615.0     Fiction  The Girls' Guide to Hunting and Fishing by Mel...   \n",
       "1  148159.0  Nonfiction  How Full Is Your Bucket?: Positive Strategies ...   \n",
       "2  117280.0     Fiction               Eine gefangene Liebe by Anita Shreve   \n",
       "3  164937.0    Classics                    The Resurrection by Leo Tolstoy   \n",
       "4  172865.0  Nonfiction  Thrive: 30 Inspirational Rags-to-Riches Storie...   \n",
       "\n",
       "                                            BOOKNAME         AUTHOR  \\\n",
       "0            The Girls' Guide to Hunting and Fishing   Melissa Bank   \n",
       "1  How Full Is Your Bucket?: Positive Strategies ...       Tom Rath   \n",
       "2                               Eine gefangene Liebe   Anita Shreve   \n",
       "3                                   The Resurrection    Leo Tolstoy   \n",
       "4    Thrive: 30 Inspirational Rags-to-Riches Stories  Jason Navallo   \n",
       "\n",
       "   USERRATINGS                                   OTHERPRINTEDINFO  \\\n",
       "0         3.31  ['Paperback, 288 pages', 'Published March 29th...   \n",
       "1         3.86  [\"Hardcover, Educator's Edition, 224 pages\", '...   \n",
       "2         3.29  ['Paperback, 252 pages', 'Published September ...   \n",
       "3         4.12  ['Audio CD, 17 pages', 'Published March 1st 20...   \n",
       "4         3.86  ['Kindle Edition, 100 pages', 'Published April...   \n",
       "\n",
       "                                             DETAILS  \\\n",
       "0  [('Original Title', \"The Girls' Guide to Hunti...   \n",
       "1  [('Original Title', 'How Full Is Your Bucket? ...   \n",
       "2  [('Original Title', 'Where or When'), ('ISBN',...   \n",
       "3  [('Original Title', 'ÐÐ¾ÑÐºÑÐµÑÐµÐ½Ð¸Ðµ'),...   \n",
       "4  [('ASIN', 'B00WNHB59I'), ('Edition Language', ...   \n",
       "\n",
       "                                             SUMMARY  \\\n",
       "0  Generous-hearted and wickedly insightful, The ...   \n",
       "1  Based on a simple metaphor, the book features ...   \n",
       "2  Charles Callahan is reading the Sunday paper w...   \n",
       "3  Leo Tolstoy stands tall among the great Russia...   \n",
       "4  Thrive: 30 Inspirational Rags-to-Riches Storie...   \n",
       "\n",
       "                                          AUTHORDESC  \\\n",
       "0  \"Melissa Bank (born in 1961 in Philadelphia) i...   \n",
       "1   ARE YOU FULLY CHARGED?, the latest national b...   \n",
       "2  Anita Shreve was an American writer, chiefly k...   \n",
       "3  Lev Nikolayevich Tolstoy (Russian: ÐÐµÐ² ÐÐ¸...   \n",
       "4  Jason Navallo is the author of five books (Ame...   \n",
       "\n",
       "                                           COVERPAGE   Popularity  PAGES  \\\n",
       "0  https://images.gr-assets.com/books/1309210476l...  1883.961984  288.0   \n",
       "1  https://images.gr-assets.com/books/1386923784l...    88.060588  224.0   \n",
       "2  https://images.gr-assets.com/books/1172425279l...    99.257499  252.0   \n",
       "3  https://images.gr-assets.com/books/1347520060l...   212.280962   17.0   \n",
       "4  https://images.gr-assets.com/books/1430867773l...     4.039204  100.0   \n",
       "\n",
       "   PUBLISH_YEAR  \n",
       "0          2005  \n",
       "1          2007  \n",
       "2          1999  \n",
       "3          2005  \n",
       "4          2015  "
      ]
     },
     "execution_count": 83,
     "metadata": {},
     "output_type": "execute_result"
    }
   ],
   "source": [
    "df_master_test.head(5)"
   ]
  },
  {
   "cell_type": "code",
   "execution_count": 326,
   "metadata": {},
   "outputs": [],
   "source": [
    "df_test_books = df_master_test[['BookID','PAGES','PUBLISH_YEAR','GENRE','BOOKNAME','AUTHOR','SUMMARY']].copy()"
   ]
  },
  {
   "cell_type": "code",
   "execution_count": 327,
   "metadata": {},
   "outputs": [
    {
     "data": {
      "text/html": [
       "<div>\n",
       "<style scoped>\n",
       "    .dataframe tbody tr th:only-of-type {\n",
       "        vertical-align: middle;\n",
       "    }\n",
       "\n",
       "    .dataframe tbody tr th {\n",
       "        vertical-align: top;\n",
       "    }\n",
       "\n",
       "    .dataframe thead th {\n",
       "        text-align: right;\n",
       "    }\n",
       "</style>\n",
       "<table border=\"1\" class=\"dataframe\">\n",
       "  <thead>\n",
       "    <tr style=\"text-align: right;\">\n",
       "      <th></th>\n",
       "      <th>BookID</th>\n",
       "      <th>PAGES</th>\n",
       "      <th>PUBLISH_YEAR</th>\n",
       "      <th>GENRE</th>\n",
       "      <th>BOOKNAME</th>\n",
       "      <th>AUTHOR</th>\n",
       "      <th>SUMMARY</th>\n",
       "    </tr>\n",
       "  </thead>\n",
       "  <tbody>\n",
       "    <tr>\n",
       "      <th>0</th>\n",
       "      <td>109615.0</td>\n",
       "      <td>288.0</td>\n",
       "      <td>2005</td>\n",
       "      <td>Fiction</td>\n",
       "      <td>The Girls' Guide to Hunting and Fishing</td>\n",
       "      <td>Melissa Bank</td>\n",
       "      <td>Generous-hearted and wickedly insightful, The ...</td>\n",
       "    </tr>\n",
       "    <tr>\n",
       "      <th>1</th>\n",
       "      <td>148159.0</td>\n",
       "      <td>224.0</td>\n",
       "      <td>2007</td>\n",
       "      <td>Nonfiction</td>\n",
       "      <td>How Full Is Your Bucket?: Positive Strategies ...</td>\n",
       "      <td>Tom Rath</td>\n",
       "      <td>Based on a simple metaphor, the book features ...</td>\n",
       "    </tr>\n",
       "    <tr>\n",
       "      <th>2</th>\n",
       "      <td>117280.0</td>\n",
       "      <td>252.0</td>\n",
       "      <td>1999</td>\n",
       "      <td>Fiction</td>\n",
       "      <td>Eine gefangene Liebe</td>\n",
       "      <td>Anita Shreve</td>\n",
       "      <td>Charles Callahan is reading the Sunday paper w...</td>\n",
       "    </tr>\n",
       "    <tr>\n",
       "      <th>3</th>\n",
       "      <td>164937.0</td>\n",
       "      <td>17.0</td>\n",
       "      <td>2005</td>\n",
       "      <td>Classics</td>\n",
       "      <td>The Resurrection</td>\n",
       "      <td>Leo Tolstoy</td>\n",
       "      <td>Leo Tolstoy stands tall among the great Russia...</td>\n",
       "    </tr>\n",
       "    <tr>\n",
       "      <th>4</th>\n",
       "      <td>172865.0</td>\n",
       "      <td>100.0</td>\n",
       "      <td>2015</td>\n",
       "      <td>Nonfiction</td>\n",
       "      <td>Thrive: 30 Inspirational Rags-to-Riches Stories</td>\n",
       "      <td>Jason Navallo</td>\n",
       "      <td>Thrive: 30 Inspirational Rags-to-Riches Storie...</td>\n",
       "    </tr>\n",
       "  </tbody>\n",
       "</table>\n",
       "</div>"
      ],
      "text/plain": [
       "     BookID  PAGES  PUBLISH_YEAR       GENRE  \\\n",
       "0  109615.0  288.0          2005     Fiction   \n",
       "1  148159.0  224.0          2007  Nonfiction   \n",
       "2  117280.0  252.0          1999     Fiction   \n",
       "3  164937.0   17.0          2005    Classics   \n",
       "4  172865.0  100.0          2015  Nonfiction   \n",
       "\n",
       "                                            BOOKNAME         AUTHOR  \\\n",
       "0            The Girls' Guide to Hunting and Fishing   Melissa Bank   \n",
       "1  How Full Is Your Bucket?: Positive Strategies ...       Tom Rath   \n",
       "2                               Eine gefangene Liebe   Anita Shreve   \n",
       "3                                   The Resurrection    Leo Tolstoy   \n",
       "4    Thrive: 30 Inspirational Rags-to-Riches Stories  Jason Navallo   \n",
       "\n",
       "                                             SUMMARY  \n",
       "0  Generous-hearted and wickedly insightful, The ...  \n",
       "1  Based on a simple metaphor, the book features ...  \n",
       "2  Charles Callahan is reading the Sunday paper w...  \n",
       "3  Leo Tolstoy stands tall among the great Russia...  \n",
       "4  Thrive: 30 Inspirational Rags-to-Riches Storie...  "
      ]
     },
     "execution_count": 327,
     "metadata": {},
     "output_type": "execute_result"
    }
   ],
   "source": [
    "df_test_books.head(5)"
   ]
  },
  {
   "cell_type": "code",
   "execution_count": 328,
   "metadata": {},
   "outputs": [],
   "source": [
    "df_test_books['AUTHOR'] = df_test_books['AUTHOR'].str.replace(' ', '')"
   ]
  },
  {
   "cell_type": "code",
   "execution_count": 329,
   "metadata": {},
   "outputs": [
    {
     "data": {
      "text/html": [
       "<div>\n",
       "<style scoped>\n",
       "    .dataframe tbody tr th:only-of-type {\n",
       "        vertical-align: middle;\n",
       "    }\n",
       "\n",
       "    .dataframe tbody tr th {\n",
       "        vertical-align: top;\n",
       "    }\n",
       "\n",
       "    .dataframe thead th {\n",
       "        text-align: right;\n",
       "    }\n",
       "</style>\n",
       "<table border=\"1\" class=\"dataframe\">\n",
       "  <thead>\n",
       "    <tr style=\"text-align: right;\">\n",
       "      <th></th>\n",
       "      <th>BookID</th>\n",
       "      <th>PAGES</th>\n",
       "      <th>PUBLISH_YEAR</th>\n",
       "      <th>GENRE</th>\n",
       "      <th>BOOKNAME</th>\n",
       "      <th>AUTHOR</th>\n",
       "      <th>SUMMARY</th>\n",
       "    </tr>\n",
       "  </thead>\n",
       "  <tbody>\n",
       "    <tr>\n",
       "      <th>0</th>\n",
       "      <td>109615.0</td>\n",
       "      <td>288.0</td>\n",
       "      <td>2005</td>\n",
       "      <td>Fiction</td>\n",
       "      <td>The Girls' Guide to Hunting and Fishing</td>\n",
       "      <td>MelissaBank</td>\n",
       "      <td>Generous-hearted and wickedly insightful, The ...</td>\n",
       "    </tr>\n",
       "    <tr>\n",
       "      <th>1</th>\n",
       "      <td>148159.0</td>\n",
       "      <td>224.0</td>\n",
       "      <td>2007</td>\n",
       "      <td>Nonfiction</td>\n",
       "      <td>How Full Is Your Bucket?: Positive Strategies ...</td>\n",
       "      <td>TomRath</td>\n",
       "      <td>Based on a simple metaphor, the book features ...</td>\n",
       "    </tr>\n",
       "    <tr>\n",
       "      <th>2</th>\n",
       "      <td>117280.0</td>\n",
       "      <td>252.0</td>\n",
       "      <td>1999</td>\n",
       "      <td>Fiction</td>\n",
       "      <td>Eine gefangene Liebe</td>\n",
       "      <td>AnitaShreve</td>\n",
       "      <td>Charles Callahan is reading the Sunday paper w...</td>\n",
       "    </tr>\n",
       "    <tr>\n",
       "      <th>3</th>\n",
       "      <td>164937.0</td>\n",
       "      <td>17.0</td>\n",
       "      <td>2005</td>\n",
       "      <td>Classics</td>\n",
       "      <td>The Resurrection</td>\n",
       "      <td>LeoTolstoy</td>\n",
       "      <td>Leo Tolstoy stands tall among the great Russia...</td>\n",
       "    </tr>\n",
       "    <tr>\n",
       "      <th>4</th>\n",
       "      <td>172865.0</td>\n",
       "      <td>100.0</td>\n",
       "      <td>2015</td>\n",
       "      <td>Nonfiction</td>\n",
       "      <td>Thrive: 30 Inspirational Rags-to-Riches Stories</td>\n",
       "      <td>JasonNavallo</td>\n",
       "      <td>Thrive: 30 Inspirational Rags-to-Riches Storie...</td>\n",
       "    </tr>\n",
       "  </tbody>\n",
       "</table>\n",
       "</div>"
      ],
      "text/plain": [
       "     BookID  PAGES  PUBLISH_YEAR       GENRE  \\\n",
       "0  109615.0  288.0          2005     Fiction   \n",
       "1  148159.0  224.0          2007  Nonfiction   \n",
       "2  117280.0  252.0          1999     Fiction   \n",
       "3  164937.0   17.0          2005    Classics   \n",
       "4  172865.0  100.0          2015  Nonfiction   \n",
       "\n",
       "                                            BOOKNAME        AUTHOR  \\\n",
       "0            The Girls' Guide to Hunting and Fishing   MelissaBank   \n",
       "1  How Full Is Your Bucket?: Positive Strategies ...       TomRath   \n",
       "2                               Eine gefangene Liebe   AnitaShreve   \n",
       "3                                   The Resurrection    LeoTolstoy   \n",
       "4    Thrive: 30 Inspirational Rags-to-Riches Stories  JasonNavallo   \n",
       "\n",
       "                                             SUMMARY  \n",
       "0  Generous-hearted and wickedly insightful, The ...  \n",
       "1  Based on a simple metaphor, the book features ...  \n",
       "2  Charles Callahan is reading the Sunday paper w...  \n",
       "3  Leo Tolstoy stands tall among the great Russia...  \n",
       "4  Thrive: 30 Inspirational Rags-to-Riches Storie...  "
      ]
     },
     "execution_count": 329,
     "metadata": {},
     "output_type": "execute_result"
    }
   ],
   "source": [
    "df_test_books.head(5)"
   ]
  },
  {
   "cell_type": "code",
   "execution_count": 330,
   "metadata": {},
   "outputs": [],
   "source": [
    "df_test_books['AUTHOR'] = df_test_books['AUTHOR'].str.lower()"
   ]
  },
  {
   "cell_type": "code",
   "execution_count": 331,
   "metadata": {},
   "outputs": [],
   "source": [
    "# Creating new column for summary keywords\n",
    "df_test_books['KEY_WORDS'] = \"\"\n",
    "\n",
    "for index, row in df_test_books.iterrows():\n",
    "    plot = row['SUMMARY']\n",
    "    \n",
    "    # instantiating Rake, by default is uses english stopwords from NLTK\n",
    "    # and discard all puntuation characters\n",
    "    r = Rake()\n",
    "\n",
    "    # extracting the words by passing the text\n",
    "    r.extract_keywords_from_text(plot)\n",
    "    \n",
    "\n",
    "    # getting the dictionary whith key words and their scores\n",
    "    key_words_dict_scores = r.get_ranked_phrases()\n",
    "    \n",
    "    # assigning the key words to the new column\n",
    "    #row['Key_words'] = key_words_dict_scores\n",
    "    df_test_books.at[index,'KEY_WORDS'] = list(key_words_dict_scores)\n",
    "\n"
   ]
  },
  {
   "cell_type": "code",
   "execution_count": 332,
   "metadata": {},
   "outputs": [
    {
     "data": {
      "text/html": [
       "<div>\n",
       "<style scoped>\n",
       "    .dataframe tbody tr th:only-of-type {\n",
       "        vertical-align: middle;\n",
       "    }\n",
       "\n",
       "    .dataframe tbody tr th {\n",
       "        vertical-align: top;\n",
       "    }\n",
       "\n",
       "    .dataframe thead th {\n",
       "        text-align: right;\n",
       "    }\n",
       "</style>\n",
       "<table border=\"1\" class=\"dataframe\">\n",
       "  <thead>\n",
       "    <tr style=\"text-align: right;\">\n",
       "      <th></th>\n",
       "      <th>BookID</th>\n",
       "      <th>PAGES</th>\n",
       "      <th>PUBLISH_YEAR</th>\n",
       "      <th>GENRE</th>\n",
       "      <th>BOOKNAME</th>\n",
       "      <th>AUTHOR</th>\n",
       "      <th>SUMMARY</th>\n",
       "      <th>KEY_WORDS</th>\n",
       "    </tr>\n",
       "  </thead>\n",
       "  <tbody>\n",
       "    <tr>\n",
       "      <th>0</th>\n",
       "      <td>109615.0</td>\n",
       "      <td>288.0</td>\n",
       "      <td>2005</td>\n",
       "      <td>Fiction</td>\n",
       "      <td>The Girls' Guide to Hunting and Fishing</td>\n",
       "      <td>melissabank</td>\n",
       "      <td>Generous-hearted and wickedly insightful, The ...</td>\n",
       "      <td>[young woman coming, unforgettable comic touch...</td>\n",
       "    </tr>\n",
       "    <tr>\n",
       "      <th>1</th>\n",
       "      <td>148159.0</td>\n",
       "      <td>224.0</td>\n",
       "      <td>2007</td>\n",
       "      <td>Nonfiction</td>\n",
       "      <td>How Full Is Your Bucket?: Positive Strategies ...</td>\n",
       "      <td>tomrath</td>\n",
       "      <td>Based on a simple metaphor, the book features ...</td>\n",
       "      <td>[bonus section â  â  instructional guide, ...</td>\n",
       "    </tr>\n",
       "    <tr>\n",
       "      <th>2</th>\n",
       "      <td>117280.0</td>\n",
       "      <td>252.0</td>\n",
       "      <td>1999</td>\n",
       "      <td>Fiction</td>\n",
       "      <td>Eine gefangene Liebe</td>\n",
       "      <td>anitashreve</td>\n",
       "      <td>Charles Callahan is reading the Sunday paper w...</td>\n",
       "      <td>[oddly familiar photo catches, correspondence ...</td>\n",
       "    </tr>\n",
       "    <tr>\n",
       "      <th>3</th>\n",
       "      <td>164937.0</td>\n",
       "      <td>17.0</td>\n",
       "      <td>2005</td>\n",
       "      <td>Classics</td>\n",
       "      <td>The Resurrection</td>\n",
       "      <td>leotolstoy</td>\n",
       "      <td>Leo Tolstoy stands tall among the great Russia...</td>\n",
       "      <td>[two together many years later, beautiful youn...</td>\n",
       "    </tr>\n",
       "    <tr>\n",
       "      <th>4</th>\n",
       "      <td>172865.0</td>\n",
       "      <td>100.0</td>\n",
       "      <td>2015</td>\n",
       "      <td>Nonfiction</td>\n",
       "      <td>Thrive: 30 Inspirational Rags-to-Riches Stories</td>\n",
       "      <td>jasonnavallo</td>\n",
       "      <td>Thrive: 30 Inspirational Rags-to-Riches Storie...</td>\n",
       "      <td>[including jim carrey, become wealthy entrepre...</td>\n",
       "    </tr>\n",
       "  </tbody>\n",
       "</table>\n",
       "</div>"
      ],
      "text/plain": [
       "     BookID  PAGES  PUBLISH_YEAR       GENRE  \\\n",
       "0  109615.0  288.0          2005     Fiction   \n",
       "1  148159.0  224.0          2007  Nonfiction   \n",
       "2  117280.0  252.0          1999     Fiction   \n",
       "3  164937.0   17.0          2005    Classics   \n",
       "4  172865.0  100.0          2015  Nonfiction   \n",
       "\n",
       "                                            BOOKNAME        AUTHOR  \\\n",
       "0            The Girls' Guide to Hunting and Fishing   melissabank   \n",
       "1  How Full Is Your Bucket?: Positive Strategies ...       tomrath   \n",
       "2                               Eine gefangene Liebe   anitashreve   \n",
       "3                                   The Resurrection    leotolstoy   \n",
       "4    Thrive: 30 Inspirational Rags-to-Riches Stories  jasonnavallo   \n",
       "\n",
       "                                             SUMMARY  \\\n",
       "0  Generous-hearted and wickedly insightful, The ...   \n",
       "1  Based on a simple metaphor, the book features ...   \n",
       "2  Charles Callahan is reading the Sunday paper w...   \n",
       "3  Leo Tolstoy stands tall among the great Russia...   \n",
       "4  Thrive: 30 Inspirational Rags-to-Riches Storie...   \n",
       "\n",
       "                                           KEY_WORDS  \n",
       "0  [young woman coming, unforgettable comic touch...  \n",
       "1  [bonus section â  â  instructional guide, ...  \n",
       "2  [oddly familiar photo catches, correspondence ...  \n",
       "3  [two together many years later, beautiful youn...  \n",
       "4  [including jim carrey, become wealthy entrepre...  "
      ]
     },
     "execution_count": 332,
     "metadata": {},
     "output_type": "execute_result"
    }
   ],
   "source": [
    "df_test_books.head(5)"
   ]
  },
  {
   "cell_type": "code",
   "execution_count": 333,
   "metadata": {},
   "outputs": [],
   "source": [
    "# dropping the SUMMARY column\n",
    "df_test_books.drop(columns = ['SUMMARY'], inplace = True)"
   ]
  },
  {
   "cell_type": "code",
   "execution_count": 334,
   "metadata": {},
   "outputs": [
    {
     "data": {
      "text/html": [
       "<div>\n",
       "<style scoped>\n",
       "    .dataframe tbody tr th:only-of-type {\n",
       "        vertical-align: middle;\n",
       "    }\n",
       "\n",
       "    .dataframe tbody tr th {\n",
       "        vertical-align: top;\n",
       "    }\n",
       "\n",
       "    .dataframe thead th {\n",
       "        text-align: right;\n",
       "    }\n",
       "</style>\n",
       "<table border=\"1\" class=\"dataframe\">\n",
       "  <thead>\n",
       "    <tr style=\"text-align: right;\">\n",
       "      <th></th>\n",
       "      <th>BookID</th>\n",
       "      <th>PAGES</th>\n",
       "      <th>PUBLISH_YEAR</th>\n",
       "      <th>GENRE</th>\n",
       "      <th>BOOKNAME</th>\n",
       "      <th>AUTHOR</th>\n",
       "      <th>KEY_WORDS</th>\n",
       "    </tr>\n",
       "  </thead>\n",
       "  <tbody>\n",
       "    <tr>\n",
       "      <th>0</th>\n",
       "      <td>109615.0</td>\n",
       "      <td>288.0</td>\n",
       "      <td>2005</td>\n",
       "      <td>Fiction</td>\n",
       "      <td>The Girls' Guide to Hunting and Fishing</td>\n",
       "      <td>melissabank</td>\n",
       "      <td>[young woman coming, unforgettable comic touch...</td>\n",
       "    </tr>\n",
       "    <tr>\n",
       "      <th>1</th>\n",
       "      <td>148159.0</td>\n",
       "      <td>224.0</td>\n",
       "      <td>2007</td>\n",
       "      <td>Nonfiction</td>\n",
       "      <td>How Full Is Your Bucket?: Positive Strategies ...</td>\n",
       "      <td>tomrath</td>\n",
       "      <td>[bonus section â  â  instructional guide, ...</td>\n",
       "    </tr>\n",
       "    <tr>\n",
       "      <th>2</th>\n",
       "      <td>117280.0</td>\n",
       "      <td>252.0</td>\n",
       "      <td>1999</td>\n",
       "      <td>Fiction</td>\n",
       "      <td>Eine gefangene Liebe</td>\n",
       "      <td>anitashreve</td>\n",
       "      <td>[oddly familiar photo catches, correspondence ...</td>\n",
       "    </tr>\n",
       "    <tr>\n",
       "      <th>3</th>\n",
       "      <td>164937.0</td>\n",
       "      <td>17.0</td>\n",
       "      <td>2005</td>\n",
       "      <td>Classics</td>\n",
       "      <td>The Resurrection</td>\n",
       "      <td>leotolstoy</td>\n",
       "      <td>[two together many years later, beautiful youn...</td>\n",
       "    </tr>\n",
       "    <tr>\n",
       "      <th>4</th>\n",
       "      <td>172865.0</td>\n",
       "      <td>100.0</td>\n",
       "      <td>2015</td>\n",
       "      <td>Nonfiction</td>\n",
       "      <td>Thrive: 30 Inspirational Rags-to-Riches Stories</td>\n",
       "      <td>jasonnavallo</td>\n",
       "      <td>[including jim carrey, become wealthy entrepre...</td>\n",
       "    </tr>\n",
       "  </tbody>\n",
       "</table>\n",
       "</div>"
      ],
      "text/plain": [
       "     BookID  PAGES  PUBLISH_YEAR       GENRE  \\\n",
       "0  109615.0  288.0          2005     Fiction   \n",
       "1  148159.0  224.0          2007  Nonfiction   \n",
       "2  117280.0  252.0          1999     Fiction   \n",
       "3  164937.0   17.0          2005    Classics   \n",
       "4  172865.0  100.0          2015  Nonfiction   \n",
       "\n",
       "                                            BOOKNAME        AUTHOR  \\\n",
       "0            The Girls' Guide to Hunting and Fishing   melissabank   \n",
       "1  How Full Is Your Bucket?: Positive Strategies ...       tomrath   \n",
       "2                               Eine gefangene Liebe   anitashreve   \n",
       "3                                   The Resurrection    leotolstoy   \n",
       "4    Thrive: 30 Inspirational Rags-to-Riches Stories  jasonnavallo   \n",
       "\n",
       "                                           KEY_WORDS  \n",
       "0  [young woman coming, unforgettable comic touch...  \n",
       "1  [bonus section â  â  instructional guide, ...  \n",
       "2  [oddly familiar photo catches, correspondence ...  \n",
       "3  [two together many years later, beautiful youn...  \n",
       "4  [including jim carrey, become wealthy entrepre...  "
      ]
     },
     "execution_count": 334,
     "metadata": {},
     "output_type": "execute_result"
    }
   ],
   "source": [
    "df_test_books.head(5)"
   ]
  },
  {
   "cell_type": "code",
   "execution_count": 335,
   "metadata": {},
   "outputs": [
    {
     "data": {
      "text/plain": [
       "BookID          float64\n",
       "PAGES           float64\n",
       "PUBLISH_YEAR      int32\n",
       "GENRE            object\n",
       "BOOKNAME         object\n",
       "AUTHOR           object\n",
       "KEY_WORDS        object\n",
       "dtype: object"
      ]
     },
     "execution_count": 335,
     "metadata": {},
     "output_type": "execute_result"
    }
   ],
   "source": [
    "df_test_books.dtypes"
   ]
  },
  {
   "cell_type": "code",
   "execution_count": 336,
   "metadata": {},
   "outputs": [],
   "source": [
    "df_test_books['BookID'] = df_test_books['BookID'].astype(int)\n",
    "df_test_books['PAGES'] = df_test_books['PAGES'].astype(int)"
   ]
  },
  {
   "cell_type": "code",
   "execution_count": 337,
   "metadata": {},
   "outputs": [],
   "source": [
    "df_indexed_test_books= df_test_books.set_index('BookID')\n"
   ]
  },
  {
   "cell_type": "code",
   "execution_count": 338,
   "metadata": {},
   "outputs": [
    {
     "data": {
      "text/html": [
       "<div>\n",
       "<style scoped>\n",
       "    .dataframe tbody tr th:only-of-type {\n",
       "        vertical-align: middle;\n",
       "    }\n",
       "\n",
       "    .dataframe tbody tr th {\n",
       "        vertical-align: top;\n",
       "    }\n",
       "\n",
       "    .dataframe thead th {\n",
       "        text-align: right;\n",
       "    }\n",
       "</style>\n",
       "<table border=\"1\" class=\"dataframe\">\n",
       "  <thead>\n",
       "    <tr style=\"text-align: right;\">\n",
       "      <th></th>\n",
       "      <th>PAGES</th>\n",
       "      <th>PUBLISH_YEAR</th>\n",
       "      <th>GENRE</th>\n",
       "      <th>BOOKNAME</th>\n",
       "      <th>AUTHOR</th>\n",
       "      <th>KEY_WORDS</th>\n",
       "    </tr>\n",
       "    <tr>\n",
       "      <th>BookID</th>\n",
       "      <th></th>\n",
       "      <th></th>\n",
       "      <th></th>\n",
       "      <th></th>\n",
       "      <th></th>\n",
       "      <th></th>\n",
       "    </tr>\n",
       "  </thead>\n",
       "  <tbody>\n",
       "    <tr>\n",
       "      <th>109615</th>\n",
       "      <td>288</td>\n",
       "      <td>2005</td>\n",
       "      <td>Fiction</td>\n",
       "      <td>The Girls' Guide to Hunting and Fishing</td>\n",
       "      <td>melissabank</td>\n",
       "      <td>[young woman coming, unforgettable comic touch...</td>\n",
       "    </tr>\n",
       "    <tr>\n",
       "      <th>148159</th>\n",
       "      <td>224</td>\n",
       "      <td>2007</td>\n",
       "      <td>Nonfiction</td>\n",
       "      <td>How Full Is Your Bucket?: Positive Strategies ...</td>\n",
       "      <td>tomrath</td>\n",
       "      <td>[bonus section â  â  instructional guide, ...</td>\n",
       "    </tr>\n",
       "    <tr>\n",
       "      <th>117280</th>\n",
       "      <td>252</td>\n",
       "      <td>1999</td>\n",
       "      <td>Fiction</td>\n",
       "      <td>Eine gefangene Liebe</td>\n",
       "      <td>anitashreve</td>\n",
       "      <td>[oddly familiar photo catches, correspondence ...</td>\n",
       "    </tr>\n",
       "    <tr>\n",
       "      <th>164937</th>\n",
       "      <td>17</td>\n",
       "      <td>2005</td>\n",
       "      <td>Classics</td>\n",
       "      <td>The Resurrection</td>\n",
       "      <td>leotolstoy</td>\n",
       "      <td>[two together many years later, beautiful youn...</td>\n",
       "    </tr>\n",
       "    <tr>\n",
       "      <th>172865</th>\n",
       "      <td>100</td>\n",
       "      <td>2015</td>\n",
       "      <td>Nonfiction</td>\n",
       "      <td>Thrive: 30 Inspirational Rags-to-Riches Stories</td>\n",
       "      <td>jasonnavallo</td>\n",
       "      <td>[including jim carrey, become wealthy entrepre...</td>\n",
       "    </tr>\n",
       "  </tbody>\n",
       "</table>\n",
       "</div>"
      ],
      "text/plain": [
       "        PAGES  PUBLISH_YEAR       GENRE  \\\n",
       "BookID                                    \n",
       "109615    288          2005     Fiction   \n",
       "148159    224          2007  Nonfiction   \n",
       "117280    252          1999     Fiction   \n",
       "164937     17          2005    Classics   \n",
       "172865    100          2015  Nonfiction   \n",
       "\n",
       "                                                 BOOKNAME        AUTHOR  \\\n",
       "BookID                                                                    \n",
       "109615            The Girls' Guide to Hunting and Fishing   melissabank   \n",
       "148159  How Full Is Your Bucket?: Positive Strategies ...       tomrath   \n",
       "117280                               Eine gefangene Liebe   anitashreve   \n",
       "164937                                   The Resurrection    leotolstoy   \n",
       "172865    Thrive: 30 Inspirational Rags-to-Riches Stories  jasonnavallo   \n",
       "\n",
       "                                                KEY_WORDS  \n",
       "BookID                                                     \n",
       "109615  [young woman coming, unforgettable comic touch...  \n",
       "148159  [bonus section â  â  instructional guide, ...  \n",
       "117280  [oddly familiar photo catches, correspondence ...  \n",
       "164937  [two together many years later, beautiful youn...  \n",
       "172865  [including jim carrey, become wealthy entrepre...  "
      ]
     },
     "execution_count": 338,
     "metadata": {},
     "output_type": "execute_result"
    }
   ],
   "source": [
    "df_indexed_test_books.head(5)"
   ]
  },
  {
   "cell_type": "code",
   "execution_count": 339,
   "metadata": {},
   "outputs": [
    {
     "data": {
      "text/plain": [
       "PAGES            int32\n",
       "PUBLISH_YEAR     int32\n",
       "GENRE           object\n",
       "BOOKNAME        object\n",
       "AUTHOR          object\n",
       "KEY_WORDS       object\n",
       "dtype: object"
      ]
     },
     "execution_count": 339,
     "metadata": {},
     "output_type": "execute_result"
    }
   ],
   "source": [
    "df_indexed_test_books.dtypes"
   ]
  },
  {
   "cell_type": "code",
   "execution_count": 340,
   "metadata": {},
   "outputs": [],
   "source": [
    "df_indexed_test_books['PUBLISH_YEAR'] = df_indexed_test_books['PUBLISH_YEAR'].astype(str)\n",
    "df_indexed_test_books['PAGES'] = df_indexed_test_books['PAGES'].astype(str)"
   ]
  },
  {
   "cell_type": "code",
   "execution_count": 341,
   "metadata": {},
   "outputs": [],
   "source": [
    "df_indexed_test_books['bag_of_words'] = ''\n",
    "columns = df_indexed_test_books.columns\n",
    "for index, row in df_indexed_test_books.iterrows():\n",
    "    words = ''\n",
    "    for col in columns:\n",
    "        if col == 'KEY_WORDS':\n",
    "            words = words + ' '.join(row[col])+ ' '\n",
    "        else:\n",
    "            words = words + row[col]+ ' '\n",
    "\n",
    "    df_indexed_test_books.at[index,'bag_of_words'] = words\n",
    "    \n"
   ]
  },
  {
   "cell_type": "code",
   "execution_count": 342,
   "metadata": {},
   "outputs": [
    {
     "data": {
      "text/html": [
       "<div>\n",
       "<style scoped>\n",
       "    .dataframe tbody tr th:only-of-type {\n",
       "        vertical-align: middle;\n",
       "    }\n",
       "\n",
       "    .dataframe tbody tr th {\n",
       "        vertical-align: top;\n",
       "    }\n",
       "\n",
       "    .dataframe thead th {\n",
       "        text-align: right;\n",
       "    }\n",
       "</style>\n",
       "<table border=\"1\" class=\"dataframe\">\n",
       "  <thead>\n",
       "    <tr style=\"text-align: right;\">\n",
       "      <th></th>\n",
       "      <th>PAGES</th>\n",
       "      <th>PUBLISH_YEAR</th>\n",
       "      <th>GENRE</th>\n",
       "      <th>BOOKNAME</th>\n",
       "      <th>AUTHOR</th>\n",
       "      <th>KEY_WORDS</th>\n",
       "      <th>bag_of_words</th>\n",
       "    </tr>\n",
       "    <tr>\n",
       "      <th>BookID</th>\n",
       "      <th></th>\n",
       "      <th></th>\n",
       "      <th></th>\n",
       "      <th></th>\n",
       "      <th></th>\n",
       "      <th></th>\n",
       "      <th></th>\n",
       "    </tr>\n",
       "  </thead>\n",
       "  <tbody>\n",
       "    <tr>\n",
       "      <th>109615</th>\n",
       "      <td>288</td>\n",
       "      <td>2005</td>\n",
       "      <td>Fiction</td>\n",
       "      <td>The Girls' Guide to Hunting and Fishing</td>\n",
       "      <td>melissabank</td>\n",
       "      <td>[young woman coming, unforgettable comic touch...</td>\n",
       "      <td>288 2005 Fiction The Girls' Guide to Hunting a...</td>\n",
       "    </tr>\n",
       "    <tr>\n",
       "      <th>148159</th>\n",
       "      <td>224</td>\n",
       "      <td>2007</td>\n",
       "      <td>Nonfiction</td>\n",
       "      <td>How Full Is Your Bucket?: Positive Strategies ...</td>\n",
       "      <td>tomrath</td>\n",
       "      <td>[bonus section â  â  instructional guide, ...</td>\n",
       "      <td>224 2007 Nonfiction How Full Is Your Bucket?: ...</td>\n",
       "    </tr>\n",
       "    <tr>\n",
       "      <th>117280</th>\n",
       "      <td>252</td>\n",
       "      <td>1999</td>\n",
       "      <td>Fiction</td>\n",
       "      <td>Eine gefangene Liebe</td>\n",
       "      <td>anitashreve</td>\n",
       "      <td>[oddly familiar photo catches, correspondence ...</td>\n",
       "      <td>252 1999 Fiction Eine gefangene Liebe anitashr...</td>\n",
       "    </tr>\n",
       "    <tr>\n",
       "      <th>164937</th>\n",
       "      <td>17</td>\n",
       "      <td>2005</td>\n",
       "      <td>Classics</td>\n",
       "      <td>The Resurrection</td>\n",
       "      <td>leotolstoy</td>\n",
       "      <td>[two together many years later, beautiful youn...</td>\n",
       "      <td>17 2005 Classics The Resurrection leotolstoy t...</td>\n",
       "    </tr>\n",
       "    <tr>\n",
       "      <th>172865</th>\n",
       "      <td>100</td>\n",
       "      <td>2015</td>\n",
       "      <td>Nonfiction</td>\n",
       "      <td>Thrive: 30 Inspirational Rags-to-Riches Stories</td>\n",
       "      <td>jasonnavallo</td>\n",
       "      <td>[including jim carrey, become wealthy entrepre...</td>\n",
       "      <td>100 2015 Nonfiction Thrive: 30 Inspirational R...</td>\n",
       "    </tr>\n",
       "  </tbody>\n",
       "</table>\n",
       "</div>"
      ],
      "text/plain": [
       "       PAGES PUBLISH_YEAR       GENRE  \\\n",
       "BookID                                  \n",
       "109615   288         2005     Fiction   \n",
       "148159   224         2007  Nonfiction   \n",
       "117280   252         1999     Fiction   \n",
       "164937    17         2005    Classics   \n",
       "172865   100         2015  Nonfiction   \n",
       "\n",
       "                                                 BOOKNAME        AUTHOR  \\\n",
       "BookID                                                                    \n",
       "109615            The Girls' Guide to Hunting and Fishing   melissabank   \n",
       "148159  How Full Is Your Bucket?: Positive Strategies ...       tomrath   \n",
       "117280                               Eine gefangene Liebe   anitashreve   \n",
       "164937                                   The Resurrection    leotolstoy   \n",
       "172865    Thrive: 30 Inspirational Rags-to-Riches Stories  jasonnavallo   \n",
       "\n",
       "                                                KEY_WORDS  \\\n",
       "BookID                                                      \n",
       "109615  [young woman coming, unforgettable comic touch...   \n",
       "148159  [bonus section â  â  instructional guide, ...   \n",
       "117280  [oddly familiar photo catches, correspondence ...   \n",
       "164937  [two together many years later, beautiful youn...   \n",
       "172865  [including jim carrey, become wealthy entrepre...   \n",
       "\n",
       "                                             bag_of_words  \n",
       "BookID                                                     \n",
       "109615  288 2005 Fiction The Girls' Guide to Hunting a...  \n",
       "148159  224 2007 Nonfiction How Full Is Your Bucket?: ...  \n",
       "117280  252 1999 Fiction Eine gefangene Liebe anitashr...  \n",
       "164937  17 2005 Classics The Resurrection leotolstoy t...  \n",
       "172865  100 2015 Nonfiction Thrive: 30 Inspirational R...  "
      ]
     },
     "execution_count": 342,
     "metadata": {},
     "output_type": "execute_result"
    }
   ],
   "source": [
    "df_indexed_test_books.head(5)"
   ]
  },
  {
   "cell_type": "code",
   "execution_count": 343,
   "metadata": {},
   "outputs": [],
   "source": [
    "df_indexed_test_books.drop(columns = [col for col in df_indexed_test_books.columns if col!= 'bag_of_words'], inplace = True)"
   ]
  },
  {
   "cell_type": "code",
   "execution_count": 344,
   "metadata": {},
   "outputs": [
    {
     "data": {
      "text/html": [
       "<div>\n",
       "<style scoped>\n",
       "    .dataframe tbody tr th:only-of-type {\n",
       "        vertical-align: middle;\n",
       "    }\n",
       "\n",
       "    .dataframe tbody tr th {\n",
       "        vertical-align: top;\n",
       "    }\n",
       "\n",
       "    .dataframe thead th {\n",
       "        text-align: right;\n",
       "    }\n",
       "</style>\n",
       "<table border=\"1\" class=\"dataframe\">\n",
       "  <thead>\n",
       "    <tr style=\"text-align: right;\">\n",
       "      <th></th>\n",
       "      <th>bag_of_words</th>\n",
       "    </tr>\n",
       "    <tr>\n",
       "      <th>BookID</th>\n",
       "      <th></th>\n",
       "    </tr>\n",
       "  </thead>\n",
       "  <tbody>\n",
       "    <tr>\n",
       "      <th>109615</th>\n",
       "      <td>288 2005 Fiction The Girls' Guide to Hunting a...</td>\n",
       "    </tr>\n",
       "    <tr>\n",
       "      <th>148159</th>\n",
       "      <td>224 2007 Nonfiction How Full Is Your Bucket?: ...</td>\n",
       "    </tr>\n",
       "    <tr>\n",
       "      <th>117280</th>\n",
       "      <td>252 1999 Fiction Eine gefangene Liebe anitashr...</td>\n",
       "    </tr>\n",
       "    <tr>\n",
       "      <th>164937</th>\n",
       "      <td>17 2005 Classics The Resurrection leotolstoy t...</td>\n",
       "    </tr>\n",
       "    <tr>\n",
       "      <th>172865</th>\n",
       "      <td>100 2015 Nonfiction Thrive: 30 Inspirational R...</td>\n",
       "    </tr>\n",
       "  </tbody>\n",
       "</table>\n",
       "</div>"
      ],
      "text/plain": [
       "                                             bag_of_words\n",
       "BookID                                                   \n",
       "109615  288 2005 Fiction The Girls' Guide to Hunting a...\n",
       "148159  224 2007 Nonfiction How Full Is Your Bucket?: ...\n",
       "117280  252 1999 Fiction Eine gefangene Liebe anitashr...\n",
       "164937  17 2005 Classics The Resurrection leotolstoy t...\n",
       "172865  100 2015 Nonfiction Thrive: 30 Inspirational R..."
      ]
     },
     "execution_count": 344,
     "metadata": {},
     "output_type": "execute_result"
    }
   ],
   "source": [
    "df_indexed_test_books.head(5)"
   ]
  },
  {
   "cell_type": "code",
   "execution_count": 230,
   "metadata": {},
   "outputs": [],
   "source": [
    "#df_non_index_test = df_indexed_test_books.copy()"
   ]
  },
  {
   "cell_type": "code",
   "execution_count": 231,
   "metadata": {},
   "outputs": [],
   "source": [
    "#df_non_index_test['BookID']= df_non_index_test.index"
   ]
  },
  {
   "cell_type": "code",
   "execution_count": 233,
   "metadata": {},
   "outputs": [],
   "source": [
    "#df_indexed_test_books = df_indexed_test_books[['BookID','bag_of_words']]"
   ]
  },
  {
   "cell_type": "markdown",
   "metadata": {},
   "source": [
    "## TEST DATA"
   ]
  },
  {
   "cell_type": "code",
   "execution_count": 234,
   "metadata": {},
   "outputs": [
    {
     "data": {
      "text/html": [
       "<div>\n",
       "<style scoped>\n",
       "    .dataframe tbody tr th:only-of-type {\n",
       "        vertical-align: middle;\n",
       "    }\n",
       "\n",
       "    .dataframe tbody tr th {\n",
       "        vertical-align: top;\n",
       "    }\n",
       "\n",
       "    .dataframe thead th {\n",
       "        text-align: right;\n",
       "    }\n",
       "</style>\n",
       "<table border=\"1\" class=\"dataframe\">\n",
       "  <thead>\n",
       "    <tr style=\"text-align: right;\">\n",
       "      <th></th>\n",
       "      <th>BookID</th>\n",
       "      <th>bag_of_words</th>\n",
       "    </tr>\n",
       "    <tr>\n",
       "      <th>BookID</th>\n",
       "      <th></th>\n",
       "      <th></th>\n",
       "    </tr>\n",
       "  </thead>\n",
       "  <tbody>\n",
       "    <tr>\n",
       "      <th>109615</th>\n",
       "      <td>109615</td>\n",
       "      <td>288 2005 Fiction The Girls' Guide to Hunting a...</td>\n",
       "    </tr>\n",
       "    <tr>\n",
       "      <th>148159</th>\n",
       "      <td>148159</td>\n",
       "      <td>224 2007 Nonfiction How Full Is Your Bucket?: ...</td>\n",
       "    </tr>\n",
       "    <tr>\n",
       "      <th>117280</th>\n",
       "      <td>117280</td>\n",
       "      <td>252 1999 Fiction Eine gefangene Liebe anitashr...</td>\n",
       "    </tr>\n",
       "    <tr>\n",
       "      <th>164937</th>\n",
       "      <td>164937</td>\n",
       "      <td>17 2005 Classics The Resurrection leotolstoy t...</td>\n",
       "    </tr>\n",
       "    <tr>\n",
       "      <th>172865</th>\n",
       "      <td>172865</td>\n",
       "      <td>100 2015 Nonfiction Thrive: 30 Inspirational R...</td>\n",
       "    </tr>\n",
       "  </tbody>\n",
       "</table>\n",
       "</div>"
      ],
      "text/plain": [
       "        BookID                                       bag_of_words\n",
       "BookID                                                           \n",
       "109615  109615  288 2005 Fiction The Girls' Guide to Hunting a...\n",
       "148159  148159  224 2007 Nonfiction How Full Is Your Bucket?: ...\n",
       "117280  117280  252 1999 Fiction Eine gefangene Liebe anitashr...\n",
       "164937  164937  17 2005 Classics The Resurrection leotolstoy t...\n",
       "172865  172865  100 2015 Nonfiction Thrive: 30 Inspirational R..."
      ]
     },
     "execution_count": 234,
     "metadata": {},
     "output_type": "execute_result"
    }
   ],
   "source": [
    "#df_indexed_test_books.head(5)"
   ]
  },
  {
   "cell_type": "code",
   "execution_count": 166,
   "metadata": {},
   "outputs": [],
   "source": [
    "df_indexed_test_books.to_csv('../Data/Latest/df_indexed_test_books.csv')"
   ]
  },
  {
   "cell_type": "markdown",
   "metadata": {},
   "source": [
    "### converting rated df for cosine similarity"
   ]
  },
  {
   "cell_type": "code",
   "execution_count": 167,
   "metadata": {},
   "outputs": [
    {
     "data": {
      "text/html": [
       "<div>\n",
       "<style scoped>\n",
       "    .dataframe tbody tr th:only-of-type {\n",
       "        vertical-align: middle;\n",
       "    }\n",
       "\n",
       "    .dataframe tbody tr th {\n",
       "        vertical-align: top;\n",
       "    }\n",
       "\n",
       "    .dataframe thead th {\n",
       "        text-align: right;\n",
       "    }\n",
       "</style>\n",
       "<table border=\"1\" class=\"dataframe\">\n",
       "  <thead>\n",
       "    <tr style=\"text-align: right;\">\n",
       "      <th></th>\n",
       "      <th>Unnamed: 0</th>\n",
       "      <th>UserID</th>\n",
       "      <th>BookID</th>\n",
       "      <th>GENDER</th>\n",
       "      <th>STATE</th>\n",
       "      <th>GENRE</th>\n",
       "      <th>BOOKNAME</th>\n",
       "      <th>AUTHOR</th>\n",
       "      <th>Age_Category</th>\n",
       "      <th>PAGES</th>\n",
       "      <th>PUBLISH_YEAR</th>\n",
       "      <th>SUMMARY</th>\n",
       "    </tr>\n",
       "  </thead>\n",
       "  <tbody>\n",
       "    <tr>\n",
       "      <th>0</th>\n",
       "      <td>163854</td>\n",
       "      <td>646637</td>\n",
       "      <td>112318</td>\n",
       "      <td>FEMALE</td>\n",
       "      <td>NaN</td>\n",
       "      <td>Nonfiction</td>\n",
       "      <td>A 2nd Helping of Chicken Soup for the Soul: 10...</td>\n",
       "      <td>Jack Canfield</td>\n",
       "      <td>45-54</td>\n",
       "      <td>446.0</td>\n",
       "      <td>1996</td>\n",
       "      <td>The runaway bestseller \"Chicken Soup for the S...</td>\n",
       "    </tr>\n",
       "    <tr>\n",
       "      <th>1</th>\n",
       "      <td>4621</td>\n",
       "      <td>621033</td>\n",
       "      <td>119228</td>\n",
       "      <td>MALE</td>\n",
       "      <td>Delaware</td>\n",
       "      <td>Classics</td>\n",
       "      <td>Pride and Prejudice</td>\n",
       "      <td>Jane Austen</td>\n",
       "      <td>35-44</td>\n",
       "      <td>279.0</td>\n",
       "      <td>2000</td>\n",
       "      <td>Since its immediate success in 1813, Pride and...</td>\n",
       "    </tr>\n",
       "    <tr>\n",
       "      <th>2</th>\n",
       "      <td>348037</td>\n",
       "      <td>667563</td>\n",
       "      <td>141194</td>\n",
       "      <td>MALE</td>\n",
       "      <td>Texas</td>\n",
       "      <td>Nonfiction</td>\n",
       "      <td>The South Beach Diet Supercharged: Faster Weig...</td>\n",
       "      <td>Arthur Agatston</td>\n",
       "      <td>45-54</td>\n",
       "      <td>337.0</td>\n",
       "      <td>2008</td>\n",
       "      <td>Five years ago, with the publication of The So...</td>\n",
       "    </tr>\n",
       "    <tr>\n",
       "      <th>3</th>\n",
       "      <td>3922</td>\n",
       "      <td>656318</td>\n",
       "      <td>119228</td>\n",
       "      <td>MALE</td>\n",
       "      <td>NaN</td>\n",
       "      <td>Classics</td>\n",
       "      <td>Pride and Prejudice</td>\n",
       "      <td>Jane Austen</td>\n",
       "      <td>55-64</td>\n",
       "      <td>279.0</td>\n",
       "      <td>2000</td>\n",
       "      <td>Since its immediate success in 1813, Pride and...</td>\n",
       "    </tr>\n",
       "    <tr>\n",
       "      <th>4</th>\n",
       "      <td>105383</td>\n",
       "      <td>662455</td>\n",
       "      <td>134452</td>\n",
       "      <td>FEMALE</td>\n",
       "      <td>Iowa</td>\n",
       "      <td>Classics</td>\n",
       "      <td>Pride and Prejudice</td>\n",
       "      <td>Jane Austen</td>\n",
       "      <td>25-34</td>\n",
       "      <td>279.0</td>\n",
       "      <td>2000</td>\n",
       "      <td>Since its immediate success in 1813, Pride and...</td>\n",
       "    </tr>\n",
       "  </tbody>\n",
       "</table>\n",
       "</div>"
      ],
      "text/plain": [
       "   Unnamed: 0  UserID  BookID  GENDER     STATE       GENRE  \\\n",
       "0      163854  646637  112318  FEMALE       NaN  Nonfiction   \n",
       "1        4621  621033  119228    MALE  Delaware    Classics   \n",
       "2      348037  667563  141194    MALE     Texas  Nonfiction   \n",
       "3        3922  656318  119228    MALE       NaN    Classics   \n",
       "4      105383  662455  134452  FEMALE      Iowa    Classics   \n",
       "\n",
       "                                            BOOKNAME           AUTHOR  \\\n",
       "0  A 2nd Helping of Chicken Soup for the Soul: 10...    Jack Canfield   \n",
       "1                                Pride and Prejudice      Jane Austen   \n",
       "2  The South Beach Diet Supercharged: Faster Weig...  Arthur Agatston   \n",
       "3                                Pride and Prejudice      Jane Austen   \n",
       "4                                Pride and Prejudice      Jane Austen   \n",
       "\n",
       "  Age_Category  PAGES  PUBLISH_YEAR  \\\n",
       "0        45-54  446.0          1996   \n",
       "1        35-44  279.0          2000   \n",
       "2        45-54  337.0          2008   \n",
       "3        55-64  279.0          2000   \n",
       "4        25-34  279.0          2000   \n",
       "\n",
       "                                             SUMMARY  \n",
       "0  The runaway bestseller \"Chicken Soup for the S...  \n",
       "1  Since its immediate success in 1813, Pride and...  \n",
       "2  Five years ago, with the publication of The So...  \n",
       "3  Since its immediate success in 1813, Pride and...  \n",
       "4  Since its immediate success in 1813, Pride and...  "
      ]
     },
     "execution_count": 167,
     "metadata": {},
     "output_type": "execute_result"
    }
   ],
   "source": [
    "df_rated_book_per_user.head(5)"
   ]
  },
  {
   "cell_type": "code",
   "execution_count": 345,
   "metadata": {},
   "outputs": [],
   "source": [
    "df_master_to_rate = df_rated_book_per_user[['UserID','BookID','PAGES','PUBLISH_YEAR','GENRE','BOOKNAME','AUTHOR','SUMMARY']].copy()"
   ]
  },
  {
   "cell_type": "code",
   "execution_count": 346,
   "metadata": {},
   "outputs": [],
   "source": [
    "df_master_to_rate['AUTHOR'] = df_master_to_rate['AUTHOR'].str.replace(' ', '')\n",
    "df_master_to_rate['AUTHOR'] = df_master_to_rate['AUTHOR'].str.lower()"
   ]
  },
  {
   "cell_type": "code",
   "execution_count": 482,
   "metadata": {},
   "outputs": [
    {
     "data": {
      "text/html": [
       "<div>\n",
       "<style scoped>\n",
       "    .dataframe tbody tr th:only-of-type {\n",
       "        vertical-align: middle;\n",
       "    }\n",
       "\n",
       "    .dataframe tbody tr th {\n",
       "        vertical-align: top;\n",
       "    }\n",
       "\n",
       "    .dataframe thead th {\n",
       "        text-align: right;\n",
       "    }\n",
       "</style>\n",
       "<table border=\"1\" class=\"dataframe\">\n",
       "  <thead>\n",
       "    <tr style=\"text-align: right;\">\n",
       "      <th></th>\n",
       "      <th>UserID</th>\n",
       "      <th>BookID</th>\n",
       "      <th>bag_of_words</th>\n",
       "    </tr>\n",
       "  </thead>\n",
       "  <tbody>\n",
       "    <tr>\n",
       "      <th>0</th>\n",
       "      <td>646637</td>\n",
       "      <td>112318</td>\n",
       "      <td>446 1996 Nonfiction A 2nd Helping of Chicken S...</td>\n",
       "    </tr>\n",
       "    <tr>\n",
       "      <th>1</th>\n",
       "      <td>621033</td>\n",
       "      <td>119228</td>\n",
       "      <td>279 2000 Classics Pride and Prejudice janeaust...</td>\n",
       "    </tr>\n",
       "    <tr>\n",
       "      <th>2</th>\n",
       "      <td>667563</td>\n",
       "      <td>141194</td>\n",
       "      <td>337 2008 Nonfiction The South Beach Diet Super...</td>\n",
       "    </tr>\n",
       "    <tr>\n",
       "      <th>3</th>\n",
       "      <td>656318</td>\n",
       "      <td>119228</td>\n",
       "      <td>279 2000 Classics Pride and Prejudice janeaust...</td>\n",
       "    </tr>\n",
       "    <tr>\n",
       "      <th>4</th>\n",
       "      <td>662455</td>\n",
       "      <td>134452</td>\n",
       "      <td>279 2000 Classics Pride and Prejudice janeaust...</td>\n",
       "    </tr>\n",
       "  </tbody>\n",
       "</table>\n",
       "</div>"
      ],
      "text/plain": [
       "   UserID  BookID                                       bag_of_words\n",
       "0  646637  112318  446 1996 Nonfiction A 2nd Helping of Chicken S...\n",
       "1  621033  119228  279 2000 Classics Pride and Prejudice janeaust...\n",
       "2  667563  141194  337 2008 Nonfiction The South Beach Diet Super...\n",
       "3  656318  119228  279 2000 Classics Pride and Prejudice janeaust...\n",
       "4  662455  134452  279 2000 Classics Pride and Prejudice janeaust..."
      ]
     },
     "execution_count": 482,
     "metadata": {},
     "output_type": "execute_result"
    }
   ],
   "source": [
    "df_master_to_rate.head(5)"
   ]
  },
  {
   "cell_type": "code",
   "execution_count": 348,
   "metadata": {},
   "outputs": [],
   "source": [
    "# Creating new column for summary keywords\n",
    "df_master_to_rate['KEY_WORDS'] = \"\"\n",
    "\n",
    "for index, row in df_master_to_rate.iterrows():\n",
    "    plot = row['SUMMARY']\n",
    "    \n",
    "    # instantiating Rake, by default is uses english stopwords from NLTK\n",
    "    # and discard all puntuation characters\n",
    "    r = Rake()\n",
    "\n",
    "    # extracting the words by passing the text\n",
    "    r.extract_keywords_from_text(plot)\n",
    "    \n",
    "\n",
    "    # getting the dictionary whith key words and their scores\n",
    "    key_words_dict_scores = r.get_ranked_phrases()\n",
    "    \n",
    "    # assigning the key words to the new column\n",
    "    #row['Key_words'] = key_words_dict_scores\n",
    "    df_master_to_rate.at[index,'KEY_WORDS'] = list(key_words_dict_scores)\n",
    "\n"
   ]
  },
  {
   "cell_type": "code",
   "execution_count": 349,
   "metadata": {},
   "outputs": [
    {
     "data": {
      "text/html": [
       "<div>\n",
       "<style scoped>\n",
       "    .dataframe tbody tr th:only-of-type {\n",
       "        vertical-align: middle;\n",
       "    }\n",
       "\n",
       "    .dataframe tbody tr th {\n",
       "        vertical-align: top;\n",
       "    }\n",
       "\n",
       "    .dataframe thead th {\n",
       "        text-align: right;\n",
       "    }\n",
       "</style>\n",
       "<table border=\"1\" class=\"dataframe\">\n",
       "  <thead>\n",
       "    <tr style=\"text-align: right;\">\n",
       "      <th></th>\n",
       "      <th>UserID</th>\n",
       "      <th>BookID</th>\n",
       "      <th>PAGES</th>\n",
       "      <th>PUBLISH_YEAR</th>\n",
       "      <th>GENRE</th>\n",
       "      <th>BOOKNAME</th>\n",
       "      <th>AUTHOR</th>\n",
       "      <th>SUMMARY</th>\n",
       "      <th>KEY_WORDS</th>\n",
       "    </tr>\n",
       "  </thead>\n",
       "  <tbody>\n",
       "    <tr>\n",
       "      <th>0</th>\n",
       "      <td>646637</td>\n",
       "      <td>112318</td>\n",
       "      <td>446.0</td>\n",
       "      <td>1996</td>\n",
       "      <td>Nonfiction</td>\n",
       "      <td>A 2nd Helping of Chicken Soup for the Soul: 10...</td>\n",
       "      <td>jackcanfield</td>\n",
       "      <td>The runaway bestseller \"Chicken Soup for the S...</td>\n",
       "      <td>[nation still hungering, hansen went back, wor...</td>\n",
       "    </tr>\n",
       "    <tr>\n",
       "      <th>1</th>\n",
       "      <td>621033</td>\n",
       "      <td>119228</td>\n",
       "      <td>279.0</td>\n",
       "      <td>2000</td>\n",
       "      <td>Classics</td>\n",
       "      <td>Pride and Prejudice</td>\n",
       "      <td>janeausten</td>\n",
       "      <td>Since its immediate success in 1813, Pride and...</td>\n",
       "      <td>[radiant wit sparkles, jane austen called, jan...</td>\n",
       "    </tr>\n",
       "    <tr>\n",
       "      <th>2</th>\n",
       "      <td>667563</td>\n",
       "      <td>141194</td>\n",
       "      <td>337.0</td>\n",
       "      <td>2008</td>\n",
       "      <td>Nonfiction</td>\n",
       "      <td>The South Beach Diet Supercharged: Faster Weig...</td>\n",
       "      <td>arthuragatston</td>\n",
       "      <td>Five years ago, with the publication of The So...</td>\n",
       "      <td>[find inspiring success stories, effective wei...</td>\n",
       "    </tr>\n",
       "    <tr>\n",
       "      <th>3</th>\n",
       "      <td>656318</td>\n",
       "      <td>119228</td>\n",
       "      <td>279.0</td>\n",
       "      <td>2000</td>\n",
       "      <td>Classics</td>\n",
       "      <td>Pride and Prejudice</td>\n",
       "      <td>janeausten</td>\n",
       "      <td>Since its immediate success in 1813, Pride and...</td>\n",
       "      <td>[radiant wit sparkles, jane austen called, jan...</td>\n",
       "    </tr>\n",
       "    <tr>\n",
       "      <th>4</th>\n",
       "      <td>662455</td>\n",
       "      <td>134452</td>\n",
       "      <td>279.0</td>\n",
       "      <td>2000</td>\n",
       "      <td>Classics</td>\n",
       "      <td>Pride and Prejudice</td>\n",
       "      <td>janeausten</td>\n",
       "      <td>Since its immediate success in 1813, Pride and...</td>\n",
       "      <td>[radiant wit sparkles, jane austen called, jan...</td>\n",
       "    </tr>\n",
       "  </tbody>\n",
       "</table>\n",
       "</div>"
      ],
      "text/plain": [
       "   UserID  BookID  PAGES  PUBLISH_YEAR       GENRE  \\\n",
       "0  646637  112318  446.0          1996  Nonfiction   \n",
       "1  621033  119228  279.0          2000    Classics   \n",
       "2  667563  141194  337.0          2008  Nonfiction   \n",
       "3  656318  119228  279.0          2000    Classics   \n",
       "4  662455  134452  279.0          2000    Classics   \n",
       "\n",
       "                                            BOOKNAME          AUTHOR  \\\n",
       "0  A 2nd Helping of Chicken Soup for the Soul: 10...    jackcanfield   \n",
       "1                                Pride and Prejudice      janeausten   \n",
       "2  The South Beach Diet Supercharged: Faster Weig...  arthuragatston   \n",
       "3                                Pride and Prejudice      janeausten   \n",
       "4                                Pride and Prejudice      janeausten   \n",
       "\n",
       "                                             SUMMARY  \\\n",
       "0  The runaway bestseller \"Chicken Soup for the S...   \n",
       "1  Since its immediate success in 1813, Pride and...   \n",
       "2  Five years ago, with the publication of The So...   \n",
       "3  Since its immediate success in 1813, Pride and...   \n",
       "4  Since its immediate success in 1813, Pride and...   \n",
       "\n",
       "                                           KEY_WORDS  \n",
       "0  [nation still hungering, hansen went back, wor...  \n",
       "1  [radiant wit sparkles, jane austen called, jan...  \n",
       "2  [find inspiring success stories, effective wei...  \n",
       "3  [radiant wit sparkles, jane austen called, jan...  \n",
       "4  [radiant wit sparkles, jane austen called, jan...  "
      ]
     },
     "execution_count": 349,
     "metadata": {},
     "output_type": "execute_result"
    }
   ],
   "source": [
    "df_master_to_rate.head(5)"
   ]
  },
  {
   "cell_type": "code",
   "execution_count": 350,
   "metadata": {},
   "outputs": [],
   "source": [
    "# dropping the SUMMARY column\n",
    "df_master_to_rate.drop(columns = ['SUMMARY'], inplace = True)"
   ]
  },
  {
   "cell_type": "code",
   "execution_count": 351,
   "metadata": {},
   "outputs": [
    {
     "data": {
      "text/plain": [
       "UserID            int64\n",
       "BookID            int64\n",
       "PAGES           float64\n",
       "PUBLISH_YEAR      int64\n",
       "GENRE            object\n",
       "BOOKNAME         object\n",
       "AUTHOR           object\n",
       "KEY_WORDS        object\n",
       "dtype: object"
      ]
     },
     "execution_count": 351,
     "metadata": {},
     "output_type": "execute_result"
    }
   ],
   "source": [
    "df_master_to_rate.dtypes"
   ]
  },
  {
   "cell_type": "code",
   "execution_count": 352,
   "metadata": {},
   "outputs": [],
   "source": [
    "df_master_to_rate['BookID'] = df_master_to_rate['BookID'].astype(int)\n",
    "df_master_to_rate['PAGES'] = df_master_to_rate['PAGES'].astype(int)\n",
    "df_master_to_rate['PUBLISH_YEAR'] = df_master_to_rate['PUBLISH_YEAR'].astype(int)\n",
    "df_master_to_rate['UserID'] = df_master_to_rate['UserID'].astype(int)"
   ]
  },
  {
   "cell_type": "code",
   "execution_count": 353,
   "metadata": {},
   "outputs": [],
   "source": [
    "df_master_to_rate['BookID'] = df_master_to_rate['BookID'].astype(str)\n",
    "df_master_to_rate['PAGES'] = df_master_to_rate['PAGES'].astype(str)\n",
    "df_master_to_rate['PUBLISH_YEAR'] = df_master_to_rate['PUBLISH_YEAR'].astype(str)\n",
    "df_master_to_rate['UserID'] = df_master_to_rate['UserID'].astype(str)"
   ]
  },
  {
   "cell_type": "code",
   "execution_count": 354,
   "metadata": {},
   "outputs": [
    {
     "data": {
      "text/html": [
       "<div>\n",
       "<style scoped>\n",
       "    .dataframe tbody tr th:only-of-type {\n",
       "        vertical-align: middle;\n",
       "    }\n",
       "\n",
       "    .dataframe tbody tr th {\n",
       "        vertical-align: top;\n",
       "    }\n",
       "\n",
       "    .dataframe thead th {\n",
       "        text-align: right;\n",
       "    }\n",
       "</style>\n",
       "<table border=\"1\" class=\"dataframe\">\n",
       "  <thead>\n",
       "    <tr style=\"text-align: right;\">\n",
       "      <th></th>\n",
       "      <th>UserID</th>\n",
       "      <th>BookID</th>\n",
       "      <th>PAGES</th>\n",
       "      <th>PUBLISH_YEAR</th>\n",
       "      <th>GENRE</th>\n",
       "      <th>BOOKNAME</th>\n",
       "      <th>AUTHOR</th>\n",
       "      <th>KEY_WORDS</th>\n",
       "    </tr>\n",
       "  </thead>\n",
       "  <tbody>\n",
       "    <tr>\n",
       "      <th>0</th>\n",
       "      <td>646637</td>\n",
       "      <td>112318</td>\n",
       "      <td>446</td>\n",
       "      <td>1996</td>\n",
       "      <td>Nonfiction</td>\n",
       "      <td>A 2nd Helping of Chicken Soup for the Soul: 10...</td>\n",
       "      <td>jackcanfield</td>\n",
       "      <td>[nation still hungering, hansen went back, wor...</td>\n",
       "    </tr>\n",
       "    <tr>\n",
       "      <th>1</th>\n",
       "      <td>621033</td>\n",
       "      <td>119228</td>\n",
       "      <td>279</td>\n",
       "      <td>2000</td>\n",
       "      <td>Classics</td>\n",
       "      <td>Pride and Prejudice</td>\n",
       "      <td>janeausten</td>\n",
       "      <td>[radiant wit sparkles, jane austen called, jan...</td>\n",
       "    </tr>\n",
       "    <tr>\n",
       "      <th>2</th>\n",
       "      <td>667563</td>\n",
       "      <td>141194</td>\n",
       "      <td>337</td>\n",
       "      <td>2008</td>\n",
       "      <td>Nonfiction</td>\n",
       "      <td>The South Beach Diet Supercharged: Faster Weig...</td>\n",
       "      <td>arthuragatston</td>\n",
       "      <td>[find inspiring success stories, effective wei...</td>\n",
       "    </tr>\n",
       "    <tr>\n",
       "      <th>3</th>\n",
       "      <td>656318</td>\n",
       "      <td>119228</td>\n",
       "      <td>279</td>\n",
       "      <td>2000</td>\n",
       "      <td>Classics</td>\n",
       "      <td>Pride and Prejudice</td>\n",
       "      <td>janeausten</td>\n",
       "      <td>[radiant wit sparkles, jane austen called, jan...</td>\n",
       "    </tr>\n",
       "    <tr>\n",
       "      <th>4</th>\n",
       "      <td>662455</td>\n",
       "      <td>134452</td>\n",
       "      <td>279</td>\n",
       "      <td>2000</td>\n",
       "      <td>Classics</td>\n",
       "      <td>Pride and Prejudice</td>\n",
       "      <td>janeausten</td>\n",
       "      <td>[radiant wit sparkles, jane austen called, jan...</td>\n",
       "    </tr>\n",
       "  </tbody>\n",
       "</table>\n",
       "</div>"
      ],
      "text/plain": [
       "   UserID  BookID PAGES PUBLISH_YEAR       GENRE  \\\n",
       "0  646637  112318   446         1996  Nonfiction   \n",
       "1  621033  119228   279         2000    Classics   \n",
       "2  667563  141194   337         2008  Nonfiction   \n",
       "3  656318  119228   279         2000    Classics   \n",
       "4  662455  134452   279         2000    Classics   \n",
       "\n",
       "                                            BOOKNAME          AUTHOR  \\\n",
       "0  A 2nd Helping of Chicken Soup for the Soul: 10...    jackcanfield   \n",
       "1                                Pride and Prejudice      janeausten   \n",
       "2  The South Beach Diet Supercharged: Faster Weig...  arthuragatston   \n",
       "3                                Pride and Prejudice      janeausten   \n",
       "4                                Pride and Prejudice      janeausten   \n",
       "\n",
       "                                           KEY_WORDS  \n",
       "0  [nation still hungering, hansen went back, wor...  \n",
       "1  [radiant wit sparkles, jane austen called, jan...  \n",
       "2  [find inspiring success stories, effective wei...  \n",
       "3  [radiant wit sparkles, jane austen called, jan...  \n",
       "4  [radiant wit sparkles, jane austen called, jan...  "
      ]
     },
     "execution_count": 354,
     "metadata": {},
     "output_type": "execute_result"
    }
   ],
   "source": [
    "df_master_to_rate.head(5)"
   ]
  },
  {
   "cell_type": "code",
   "execution_count": 355,
   "metadata": {},
   "outputs": [],
   "source": [
    "df_master_to_rate['bag_of_words'] = ''\n",
    "columns = ['PAGES','PUBLISH_YEAR','GENRE','BOOKNAME','AUTHOR','KEY_WORDS']\n",
    "for index, row in df_master_to_rate.iterrows():\n",
    "    words = ''\n",
    "    for col in columns:\n",
    "        if col == 'KEY_WORDS':\n",
    "            words = words + ' '.join(row[col])+ ' '\n",
    "        else:\n",
    "            words = words + row[col]+ ' '\n",
    "\n",
    "    df_master_to_rate.at[index,'bag_of_words'] = words\n",
    "    \n"
   ]
  },
  {
   "cell_type": "code",
   "execution_count": 356,
   "metadata": {},
   "outputs": [
    {
     "data": {
      "text/html": [
       "<div>\n",
       "<style scoped>\n",
       "    .dataframe tbody tr th:only-of-type {\n",
       "        vertical-align: middle;\n",
       "    }\n",
       "\n",
       "    .dataframe tbody tr th {\n",
       "        vertical-align: top;\n",
       "    }\n",
       "\n",
       "    .dataframe thead th {\n",
       "        text-align: right;\n",
       "    }\n",
       "</style>\n",
       "<table border=\"1\" class=\"dataframe\">\n",
       "  <thead>\n",
       "    <tr style=\"text-align: right;\">\n",
       "      <th></th>\n",
       "      <th>UserID</th>\n",
       "      <th>BookID</th>\n",
       "      <th>PAGES</th>\n",
       "      <th>PUBLISH_YEAR</th>\n",
       "      <th>GENRE</th>\n",
       "      <th>BOOKNAME</th>\n",
       "      <th>AUTHOR</th>\n",
       "      <th>KEY_WORDS</th>\n",
       "      <th>bag_of_words</th>\n",
       "    </tr>\n",
       "  </thead>\n",
       "  <tbody>\n",
       "    <tr>\n",
       "      <th>0</th>\n",
       "      <td>646637</td>\n",
       "      <td>112318</td>\n",
       "      <td>446</td>\n",
       "      <td>1996</td>\n",
       "      <td>Nonfiction</td>\n",
       "      <td>A 2nd Helping of Chicken Soup for the Soul: 10...</td>\n",
       "      <td>jackcanfield</td>\n",
       "      <td>[nation still hungering, hansen went back, wor...</td>\n",
       "      <td>446 1996 Nonfiction A 2nd Helping of Chicken S...</td>\n",
       "    </tr>\n",
       "    <tr>\n",
       "      <th>1</th>\n",
       "      <td>621033</td>\n",
       "      <td>119228</td>\n",
       "      <td>279</td>\n",
       "      <td>2000</td>\n",
       "      <td>Classics</td>\n",
       "      <td>Pride and Prejudice</td>\n",
       "      <td>janeausten</td>\n",
       "      <td>[radiant wit sparkles, jane austen called, jan...</td>\n",
       "      <td>279 2000 Classics Pride and Prejudice janeaust...</td>\n",
       "    </tr>\n",
       "    <tr>\n",
       "      <th>2</th>\n",
       "      <td>667563</td>\n",
       "      <td>141194</td>\n",
       "      <td>337</td>\n",
       "      <td>2008</td>\n",
       "      <td>Nonfiction</td>\n",
       "      <td>The South Beach Diet Supercharged: Faster Weig...</td>\n",
       "      <td>arthuragatston</td>\n",
       "      <td>[find inspiring success stories, effective wei...</td>\n",
       "      <td>337 2008 Nonfiction The South Beach Diet Super...</td>\n",
       "    </tr>\n",
       "    <tr>\n",
       "      <th>3</th>\n",
       "      <td>656318</td>\n",
       "      <td>119228</td>\n",
       "      <td>279</td>\n",
       "      <td>2000</td>\n",
       "      <td>Classics</td>\n",
       "      <td>Pride and Prejudice</td>\n",
       "      <td>janeausten</td>\n",
       "      <td>[radiant wit sparkles, jane austen called, jan...</td>\n",
       "      <td>279 2000 Classics Pride and Prejudice janeaust...</td>\n",
       "    </tr>\n",
       "    <tr>\n",
       "      <th>4</th>\n",
       "      <td>662455</td>\n",
       "      <td>134452</td>\n",
       "      <td>279</td>\n",
       "      <td>2000</td>\n",
       "      <td>Classics</td>\n",
       "      <td>Pride and Prejudice</td>\n",
       "      <td>janeausten</td>\n",
       "      <td>[radiant wit sparkles, jane austen called, jan...</td>\n",
       "      <td>279 2000 Classics Pride and Prejudice janeaust...</td>\n",
       "    </tr>\n",
       "  </tbody>\n",
       "</table>\n",
       "</div>"
      ],
      "text/plain": [
       "   UserID  BookID PAGES PUBLISH_YEAR       GENRE  \\\n",
       "0  646637  112318   446         1996  Nonfiction   \n",
       "1  621033  119228   279         2000    Classics   \n",
       "2  667563  141194   337         2008  Nonfiction   \n",
       "3  656318  119228   279         2000    Classics   \n",
       "4  662455  134452   279         2000    Classics   \n",
       "\n",
       "                                            BOOKNAME          AUTHOR  \\\n",
       "0  A 2nd Helping of Chicken Soup for the Soul: 10...    jackcanfield   \n",
       "1                                Pride and Prejudice      janeausten   \n",
       "2  The South Beach Diet Supercharged: Faster Weig...  arthuragatston   \n",
       "3                                Pride and Prejudice      janeausten   \n",
       "4                                Pride and Prejudice      janeausten   \n",
       "\n",
       "                                           KEY_WORDS  \\\n",
       "0  [nation still hungering, hansen went back, wor...   \n",
       "1  [radiant wit sparkles, jane austen called, jan...   \n",
       "2  [find inspiring success stories, effective wei...   \n",
       "3  [radiant wit sparkles, jane austen called, jan...   \n",
       "4  [radiant wit sparkles, jane austen called, jan...   \n",
       "\n",
       "                                        bag_of_words  \n",
       "0  446 1996 Nonfiction A 2nd Helping of Chicken S...  \n",
       "1  279 2000 Classics Pride and Prejudice janeaust...  \n",
       "2  337 2008 Nonfiction The South Beach Diet Super...  \n",
       "3  279 2000 Classics Pride and Prejudice janeaust...  \n",
       "4  279 2000 Classics Pride and Prejudice janeaust...  "
      ]
     },
     "execution_count": 356,
     "metadata": {},
     "output_type": "execute_result"
    }
   ],
   "source": [
    "df_master_to_rate.head(5)"
   ]
  },
  {
   "cell_type": "code",
   "execution_count": 357,
   "metadata": {},
   "outputs": [],
   "source": [
    "df_master_to_rate.drop(columns = [col for col in ['PAGES','PUBLISH_YEAR','GENRE','BOOKNAME','AUTHOR','KEY_WORDS'] ], inplace = True)"
   ]
  },
  {
   "cell_type": "code",
   "execution_count": 368,
   "metadata": {},
   "outputs": [
    {
     "data": {
      "text/html": [
       "<div>\n",
       "<style scoped>\n",
       "    .dataframe tbody tr th:only-of-type {\n",
       "        vertical-align: middle;\n",
       "    }\n",
       "\n",
       "    .dataframe tbody tr th {\n",
       "        vertical-align: top;\n",
       "    }\n",
       "\n",
       "    .dataframe thead th {\n",
       "        text-align: right;\n",
       "    }\n",
       "</style>\n",
       "<table border=\"1\" class=\"dataframe\">\n",
       "  <thead>\n",
       "    <tr style=\"text-align: right;\">\n",
       "      <th></th>\n",
       "      <th>UserID</th>\n",
       "      <th>BookID</th>\n",
       "      <th>bag_of_words</th>\n",
       "    </tr>\n",
       "  </thead>\n",
       "  <tbody>\n",
       "    <tr>\n",
       "      <th>0</th>\n",
       "      <td>646637</td>\n",
       "      <td>112318</td>\n",
       "      <td>446 1996 Nonfiction A 2nd Helping of Chicken S...</td>\n",
       "    </tr>\n",
       "    <tr>\n",
       "      <th>1</th>\n",
       "      <td>621033</td>\n",
       "      <td>119228</td>\n",
       "      <td>279 2000 Classics Pride and Prejudice janeaust...</td>\n",
       "    </tr>\n",
       "    <tr>\n",
       "      <th>2</th>\n",
       "      <td>667563</td>\n",
       "      <td>141194</td>\n",
       "      <td>337 2008 Nonfiction The South Beach Diet Super...</td>\n",
       "    </tr>\n",
       "    <tr>\n",
       "      <th>3</th>\n",
       "      <td>656318</td>\n",
       "      <td>119228</td>\n",
       "      <td>279 2000 Classics Pride and Prejudice janeaust...</td>\n",
       "    </tr>\n",
       "    <tr>\n",
       "      <th>4</th>\n",
       "      <td>662455</td>\n",
       "      <td>134452</td>\n",
       "      <td>279 2000 Classics Pride and Prejudice janeaust...</td>\n",
       "    </tr>\n",
       "  </tbody>\n",
       "</table>\n",
       "</div>"
      ],
      "text/plain": [
       "   UserID  BookID                                       bag_of_words\n",
       "0  646637  112318  446 1996 Nonfiction A 2nd Helping of Chicken S...\n",
       "1  621033  119228  279 2000 Classics Pride and Prejudice janeaust...\n",
       "2  667563  141194  337 2008 Nonfiction The South Beach Diet Super...\n",
       "3  656318  119228  279 2000 Classics Pride and Prejudice janeaust...\n",
       "4  662455  134452  279 2000 Classics Pride and Prejudice janeaust..."
      ]
     },
     "execution_count": 368,
     "metadata": {},
     "output_type": "execute_result"
    }
   ],
   "source": [
    "df_master_to_rate.head(5)"
   ]
  },
  {
   "cell_type": "code",
   "execution_count": 185,
   "metadata": {},
   "outputs": [],
   "source": [
    "df_master_to_rate.to_csv('../Data/Latest/df_master_to_rate.csv')"
   ]
  },
  {
   "cell_type": "markdown",
   "metadata": {},
   "source": [
    "### FINDING COSINE SIMILARITY"
   ]
  },
  {
   "cell_type": "code",
   "execution_count": 187,
   "metadata": {},
   "outputs": [],
   "source": [
    "#df_indexed_test_books"
   ]
  },
  {
   "cell_type": "code",
   "execution_count": 436,
   "metadata": {},
   "outputs": [],
   "source": [
    "df_master_to_rate_cosine = df_master_to_rate[['BookID','bag_of_words']].copy()\n"
   ]
  },
  {
   "cell_type": "code",
   "execution_count": 437,
   "metadata": {},
   "outputs": [],
   "source": [
    "df_train_books = df_master_to_rate_cosine.copy()"
   ]
  },
  {
   "cell_type": "code",
   "execution_count": 438,
   "metadata": {},
   "outputs": [],
   "source": [
    "df_train_books= df_train_books.set_index('BookID')"
   ]
  },
  {
   "cell_type": "code",
   "execution_count": 439,
   "metadata": {},
   "outputs": [
    {
     "data": {
      "text/html": [
       "<div>\n",
       "<style scoped>\n",
       "    .dataframe tbody tr th:only-of-type {\n",
       "        vertical-align: middle;\n",
       "    }\n",
       "\n",
       "    .dataframe tbody tr th {\n",
       "        vertical-align: top;\n",
       "    }\n",
       "\n",
       "    .dataframe thead th {\n",
       "        text-align: right;\n",
       "    }\n",
       "</style>\n",
       "<table border=\"1\" class=\"dataframe\">\n",
       "  <thead>\n",
       "    <tr style=\"text-align: right;\">\n",
       "      <th></th>\n",
       "      <th>bag_of_words</th>\n",
       "    </tr>\n",
       "    <tr>\n",
       "      <th>BookID</th>\n",
       "      <th></th>\n",
       "    </tr>\n",
       "  </thead>\n",
       "  <tbody>\n",
       "    <tr>\n",
       "      <th>112318</th>\n",
       "      <td>446 1996 Nonfiction A 2nd Helping of Chicken S...</td>\n",
       "    </tr>\n",
       "    <tr>\n",
       "      <th>119228</th>\n",
       "      <td>279 2000 Classics Pride and Prejudice janeaust...</td>\n",
       "    </tr>\n",
       "    <tr>\n",
       "      <th>141194</th>\n",
       "      <td>337 2008 Nonfiction The South Beach Diet Super...</td>\n",
       "    </tr>\n",
       "    <tr>\n",
       "      <th>119228</th>\n",
       "      <td>279 2000 Classics Pride and Prejudice janeaust...</td>\n",
       "    </tr>\n",
       "    <tr>\n",
       "      <th>134452</th>\n",
       "      <td>279 2000 Classics Pride and Prejudice janeaust...</td>\n",
       "    </tr>\n",
       "  </tbody>\n",
       "</table>\n",
       "</div>"
      ],
      "text/plain": [
       "                                             bag_of_words\n",
       "BookID                                                   \n",
       "112318  446 1996 Nonfiction A 2nd Helping of Chicken S...\n",
       "119228  279 2000 Classics Pride and Prejudice janeaust...\n",
       "141194  337 2008 Nonfiction The South Beach Diet Super...\n",
       "119228  279 2000 Classics Pride and Prejudice janeaust...\n",
       "134452  279 2000 Classics Pride and Prejudice janeaust..."
      ]
     },
     "execution_count": 439,
     "metadata": {},
     "output_type": "execute_result"
    }
   ],
   "source": [
    "df_train_books.head(5)"
   ]
  },
  {
   "cell_type": "code",
   "execution_count": 272,
   "metadata": {},
   "outputs": [],
   "source": [
    "#df_master_to_rate_cosine= df_master_to_rate_cosine.set_index('BookID')"
   ]
  },
  {
   "cell_type": "code",
   "execution_count": 236,
   "metadata": {},
   "outputs": [],
   "source": [
    "#train_indices = pd.Series(df_master_to_rate_cosine.index)"
   ]
  },
  {
   "cell_type": "code",
   "execution_count": 237,
   "metadata": {},
   "outputs": [],
   "source": [
    "#test_indices = pd.Series(df_indexed_test_books.index)"
   ]
  },
  {
   "cell_type": "code",
   "execution_count": 238,
   "metadata": {},
   "outputs": [],
   "source": [
    "#df_appended = df_indexed_test_books.append(df_master_to_rate_cosine)"
   ]
  },
  {
   "cell_type": "code",
   "execution_count": 239,
   "metadata": {},
   "outputs": [
    {
     "data": {
      "text/html": [
       "<div>\n",
       "<style scoped>\n",
       "    .dataframe tbody tr th:only-of-type {\n",
       "        vertical-align: middle;\n",
       "    }\n",
       "\n",
       "    .dataframe tbody tr th {\n",
       "        vertical-align: top;\n",
       "    }\n",
       "\n",
       "    .dataframe thead th {\n",
       "        text-align: right;\n",
       "    }\n",
       "</style>\n",
       "<table border=\"1\" class=\"dataframe\">\n",
       "  <thead>\n",
       "    <tr style=\"text-align: right;\">\n",
       "      <th></th>\n",
       "      <th>BookID</th>\n",
       "      <th>bag_of_words</th>\n",
       "    </tr>\n",
       "  </thead>\n",
       "  <tbody>\n",
       "    <tr>\n",
       "      <th>109615</th>\n",
       "      <td>109615</td>\n",
       "      <td>288 2005 Fiction The Girls' Guide to Hunting a...</td>\n",
       "    </tr>\n",
       "    <tr>\n",
       "      <th>148159</th>\n",
       "      <td>148159</td>\n",
       "      <td>224 2007 Nonfiction How Full Is Your Bucket?: ...</td>\n",
       "    </tr>\n",
       "    <tr>\n",
       "      <th>117280</th>\n",
       "      <td>117280</td>\n",
       "      <td>252 1999 Fiction Eine gefangene Liebe anitashr...</td>\n",
       "    </tr>\n",
       "    <tr>\n",
       "      <th>164937</th>\n",
       "      <td>164937</td>\n",
       "      <td>17 2005 Classics The Resurrection leotolstoy t...</td>\n",
       "    </tr>\n",
       "    <tr>\n",
       "      <th>172865</th>\n",
       "      <td>172865</td>\n",
       "      <td>100 2015 Nonfiction Thrive: 30 Inspirational R...</td>\n",
       "    </tr>\n",
       "  </tbody>\n",
       "</table>\n",
       "</div>"
      ],
      "text/plain": [
       "        BookID                                       bag_of_words\n",
       "109615  109615  288 2005 Fiction The Girls' Guide to Hunting a...\n",
       "148159  148159  224 2007 Nonfiction How Full Is Your Bucket?: ...\n",
       "117280  117280  252 1999 Fiction Eine gefangene Liebe anitashr...\n",
       "164937  164937  17 2005 Classics The Resurrection leotolstoy t...\n",
       "172865  172865  100 2015 Nonfiction Thrive: 30 Inspirational R..."
      ]
     },
     "execution_count": 239,
     "metadata": {},
     "output_type": "execute_result"
    }
   ],
   "source": [
    "#df_appended.head(5)"
   ]
  },
  {
   "cell_type": "code",
   "execution_count": 268,
   "metadata": {},
   "outputs": [],
   "source": [
    "\n"
   ]
  },
  {
   "cell_type": "code",
   "execution_count": null,
   "metadata": {},
   "outputs": [],
   "source": []
  },
  {
   "cell_type": "code",
   "execution_count": 270,
   "metadata": {},
   "outputs": [],
   "source": []
  },
  {
   "cell_type": "code",
   "execution_count": 211,
   "metadata": {},
   "outputs": [],
   "source": [
    "def diff(first, second):\n",
    "        second = set(second)\n",
    "        return [item for item in first if item not in second]\n",
    "\n",
    "to_rate_indices = diff(indices, master_indices) "
   ]
  },
  {
   "cell_type": "code",
   "execution_count": 375,
   "metadata": {},
   "outputs": [],
   "source": [
    "### SETTING UP MULTIPLE INDEX FOR GETTING RECOMMENDATIONS\n",
    "#df_train_books.set_index(['UserID', 'BookID'], inplace=True)"
   ]
  },
  {
   "cell_type": "code",
   "execution_count": 445,
   "metadata": {},
   "outputs": [
    {
     "data": {
      "text/html": [
       "<div>\n",
       "<style scoped>\n",
       "    .dataframe tbody tr th:only-of-type {\n",
       "        vertical-align: middle;\n",
       "    }\n",
       "\n",
       "    .dataframe tbody tr th {\n",
       "        vertical-align: top;\n",
       "    }\n",
       "\n",
       "    .dataframe thead th {\n",
       "        text-align: right;\n",
       "    }\n",
       "</style>\n",
       "<table border=\"1\" class=\"dataframe\">\n",
       "  <thead>\n",
       "    <tr style=\"text-align: right;\">\n",
       "      <th></th>\n",
       "      <th>bag_of_words</th>\n",
       "    </tr>\n",
       "    <tr>\n",
       "      <th>BookID</th>\n",
       "      <th></th>\n",
       "    </tr>\n",
       "  </thead>\n",
       "  <tbody>\n",
       "    <tr>\n",
       "      <th>112318</th>\n",
       "      <td>446 1996 Nonfiction A 2nd Helping of Chicken S...</td>\n",
       "    </tr>\n",
       "    <tr>\n",
       "      <th>119228</th>\n",
       "      <td>279 2000 Classics Pride and Prejudice janeaust...</td>\n",
       "    </tr>\n",
       "    <tr>\n",
       "      <th>141194</th>\n",
       "      <td>337 2008 Nonfiction The South Beach Diet Super...</td>\n",
       "    </tr>\n",
       "    <tr>\n",
       "      <th>119228</th>\n",
       "      <td>279 2000 Classics Pride and Prejudice janeaust...</td>\n",
       "    </tr>\n",
       "    <tr>\n",
       "      <th>134452</th>\n",
       "      <td>279 2000 Classics Pride and Prejudice janeaust...</td>\n",
       "    </tr>\n",
       "  </tbody>\n",
       "</table>\n",
       "</div>"
      ],
      "text/plain": [
       "                                             bag_of_words\n",
       "BookID                                                   \n",
       "112318  446 1996 Nonfiction A 2nd Helping of Chicken S...\n",
       "119228  279 2000 Classics Pride and Prejudice janeaust...\n",
       "141194  337 2008 Nonfiction The South Beach Diet Super...\n",
       "119228  279 2000 Classics Pride and Prejudice janeaust...\n",
       "134452  279 2000 Classics Pride and Prejudice janeaust..."
      ]
     },
     "execution_count": 445,
     "metadata": {},
     "output_type": "execute_result"
    }
   ],
   "source": [
    "df_train_books.head(5)"
   ]
  },
  {
   "cell_type": "code",
   "execution_count": 440,
   "metadata": {},
   "outputs": [
    {
     "data": {
      "text/html": [
       "<div>\n",
       "<style scoped>\n",
       "    .dataframe tbody tr th:only-of-type {\n",
       "        vertical-align: middle;\n",
       "    }\n",
       "\n",
       "    .dataframe tbody tr th {\n",
       "        vertical-align: top;\n",
       "    }\n",
       "\n",
       "    .dataframe thead th {\n",
       "        text-align: right;\n",
       "    }\n",
       "</style>\n",
       "<table border=\"1\" class=\"dataframe\">\n",
       "  <thead>\n",
       "    <tr style=\"text-align: right;\">\n",
       "      <th></th>\n",
       "      <th>bag_of_words</th>\n",
       "    </tr>\n",
       "    <tr>\n",
       "      <th>BookID</th>\n",
       "      <th></th>\n",
       "    </tr>\n",
       "  </thead>\n",
       "  <tbody>\n",
       "    <tr>\n",
       "      <th>109615</th>\n",
       "      <td>288 2005 Fiction The Girls' Guide to Hunting a...</td>\n",
       "    </tr>\n",
       "    <tr>\n",
       "      <th>148159</th>\n",
       "      <td>224 2007 Nonfiction How Full Is Your Bucket?: ...</td>\n",
       "    </tr>\n",
       "    <tr>\n",
       "      <th>117280</th>\n",
       "      <td>252 1999 Fiction Eine gefangene Liebe anitashr...</td>\n",
       "    </tr>\n",
       "    <tr>\n",
       "      <th>164937</th>\n",
       "      <td>17 2005 Classics The Resurrection leotolstoy t...</td>\n",
       "    </tr>\n",
       "    <tr>\n",
       "      <th>172865</th>\n",
       "      <td>100 2015 Nonfiction Thrive: 30 Inspirational R...</td>\n",
       "    </tr>\n",
       "  </tbody>\n",
       "</table>\n",
       "</div>"
      ],
      "text/plain": [
       "                                             bag_of_words\n",
       "BookID                                                   \n",
       "109615  288 2005 Fiction The Girls' Guide to Hunting a...\n",
       "148159  224 2007 Nonfiction How Full Is Your Bucket?: ...\n",
       "117280  252 1999 Fiction Eine gefangene Liebe anitashr...\n",
       "164937  17 2005 Classics The Resurrection leotolstoy t...\n",
       "172865  100 2015 Nonfiction Thrive: 30 Inspirational R..."
      ]
     },
     "execution_count": 440,
     "metadata": {},
     "output_type": "execute_result"
    }
   ],
   "source": [
    "df_indexed_test_books.head(5)"
   ]
  },
  {
   "cell_type": "code",
   "execution_count": 441,
   "metadata": {},
   "outputs": [],
   "source": [
    "df_master_to_rate_cosine.index = df_master_to_rate_cosine.index.astype(int)\n",
    "df_indexed_test_books.index = df_indexed_test_books.index.astype(int)\n",
    "df_train_books.index = df_train_books.index.astype(int)"
   ]
  },
  {
   "cell_type": "markdown",
   "metadata": {},
   "source": [
    "# FINAL TRY"
   ]
  },
  {
   "cell_type": "code",
   "execution_count": 446,
   "metadata": {},
   "outputs": [],
   "source": [
    "recommended_books = [[]]\n",
    "for index, row in df_train_books.iterrows():\n",
    "    #val = row['bag_of_words']\n",
    "    d = { 'BookID': [index] , 'bag_of_words': [row['bag_of_words']] }\n",
    "    temp_df = pd.DataFrame.from_dict(d)\n",
    "    temp_df.set_index('BookID', inplace=True)\n",
    "    #temp_df = pd.DataFrame(row['bag_of_words'], columns = ['bag_of_words']) \n",
    "    #temp_df = df_train_books[[df_train_books['bag_of_words']== row['bag_of_words']]]\n",
    "    #temp_df = temp_df[df_train_books.index]\n",
    "    #temp_df = pd.DataFrame(df_train_books.loc[index], columns = ['bag_of_words']) \n",
    "    df_appended = df_indexed_test_books.append(temp_df)\n",
    "    count = CountVectorizer()\n",
    "    count_matrix = count.fit_transform(df_appended['bag_of_words'])\n",
    "    cosine_sim = cosine_similarity(count_matrix, count_matrix)\n",
    "    indices = pd.Series(df_appended.index)\n",
    "    indices = indices.drop_duplicates()\n",
    "    \n",
    "    \n",
    "    title = index\n",
    "    # gettin the index of the book that matches the title\n",
    "    idx = indices[indices == title].index[0]\n",
    "\n",
    "    # creating a Series with the similarity scores in descending order\n",
    "    score_series = pd.Series(cosine_sim[idx]).sort_values(ascending = False)\n",
    "\n",
    "    # getting the indexes of the 10 most similar books\n",
    "    top_10_indexes = list(score_series.iloc[1:11].index)\n",
    "    \n",
    "    # populating the list with the titles of the best 10 matching books\n",
    "    for i in top_10_indexes:\n",
    "        recommended_books.append([title, (list(df_appended.index)[i])])\n",
    "    \n",
    "    \n",
    "    df_appended = df_appended.sort_values(by=[('BookID')])\n",
    "    df_appended.truncate(before=-1, after=-1)\n",
    "    temp_df = df_appended.sort_values(by=[('BookID')])\n",
    "    temp_df.truncate(before=-1, after=-1)\n",
    "        "
   ]
  },
  {
   "cell_type": "code",
   "execution_count": 444,
   "metadata": {},
   "outputs": [
    {
     "data": {
      "text/plain": [
       "[[]]"
      ]
     },
     "execution_count": 444,
     "metadata": {},
     "output_type": "execute_result"
    }
   ],
   "source": [
    "recommended_books"
   ]
  },
  {
   "cell_type": "code",
   "execution_count": 447,
   "metadata": {},
   "outputs": [],
   "source": [
    "recommended_dataset = pd.DataFrame(recommended_books, columns=['BookID','Recommendations'])"
   ]
  },
  {
   "cell_type": "code",
   "execution_count": 448,
   "metadata": {},
   "outputs": [],
   "source": [
    "recommended_dataset.dropna(inplace=True)"
   ]
  },
  {
   "cell_type": "code",
   "execution_count": 449,
   "metadata": {},
   "outputs": [],
   "source": [
    "\n",
    "recommended_dataset['BookID'] = recommended_dataset['BookID'].astype(int)\n",
    "recommended_dataset['Recommendations'] = recommended_dataset['Recommendations'].astype(int)\n",
    "recommended_dataset['BookID'] = recommended_dataset['BookID'].astype(str)\n",
    "recommended_dataset['Recommendations'] = recommended_dataset['Recommendations'].astype(str)"
   ]
  },
  {
   "cell_type": "code",
   "execution_count": 450,
   "metadata": {},
   "outputs": [],
   "source": [
    "recom_df = (recommended_dataset.groupby('BookID')['Recommendations']\n",
    "       .apply(lambda x: ','.join(set(x.dropna())))\n",
    "       .reset_index())\n"
   ]
  },
  {
   "cell_type": "markdown",
   "metadata": {},
   "source": [
    "## TOP 10 TEST books matching with books in TRAIN set"
   ]
  },
  {
   "cell_type": "code",
   "execution_count": 464,
   "metadata": {},
   "outputs": [
    {
     "data": {
      "text/html": [
       "<div>\n",
       "<style scoped>\n",
       "    .dataframe tbody tr th:only-of-type {\n",
       "        vertical-align: middle;\n",
       "    }\n",
       "\n",
       "    .dataframe tbody tr th {\n",
       "        vertical-align: top;\n",
       "    }\n",
       "\n",
       "    .dataframe thead th {\n",
       "        text-align: right;\n",
       "    }\n",
       "</style>\n",
       "<table border=\"1\" class=\"dataframe\">\n",
       "  <thead>\n",
       "    <tr style=\"text-align: right;\">\n",
       "      <th></th>\n",
       "      <th>BookID</th>\n",
       "      <th>Recommendations</th>\n",
       "    </tr>\n",
       "  </thead>\n",
       "  <tbody>\n",
       "    <tr>\n",
       "      <th>0</th>\n",
       "      <td>100075</td>\n",
       "      <td>179004,123373,123203,173264,134563,141325,1334...</td>\n",
       "    </tr>\n",
       "    <tr>\n",
       "      <th>1</th>\n",
       "      <td>100080</td>\n",
       "      <td>155103,127616,172503,129475,125368,147894,1649...</td>\n",
       "    </tr>\n",
       "    <tr>\n",
       "      <th>2</th>\n",
       "      <td>100086</td>\n",
       "      <td>169243,156728,123203,173264,134563,141325,1299...</td>\n",
       "    </tr>\n",
       "    <tr>\n",
       "      <th>3</th>\n",
       "      <td>100104</td>\n",
       "      <td>126752,131233,104657,137665,107611,126661,1617...</td>\n",
       "    </tr>\n",
       "    <tr>\n",
       "      <th>4</th>\n",
       "      <td>100106</td>\n",
       "      <td>126587,166252,165392,173377,167058,144850,1583...</td>\n",
       "    </tr>\n",
       "  </tbody>\n",
       "</table>\n",
       "</div>"
      ],
      "text/plain": [
       "   BookID                                    Recommendations\n",
       "0  100075  179004,123373,123203,173264,134563,141325,1334...\n",
       "1  100080  155103,127616,172503,129475,125368,147894,1649...\n",
       "2  100086  169243,156728,123203,173264,134563,141325,1299...\n",
       "3  100104  126752,131233,104657,137665,107611,126661,1617...\n",
       "4  100106  126587,166252,165392,173377,167058,144850,1583..."
      ]
     },
     "execution_count": 464,
     "metadata": {},
     "output_type": "execute_result"
    }
   ],
   "source": [
    "recom_df.head(5)"
   ]
  },
  {
   "cell_type": "code",
   "execution_count": 473,
   "metadata": {},
   "outputs": [],
   "source": [
    "import csv\n",
    "recom_df.to_csv('../Data/Output/recom_df.csv',quoting=csv.QUOTE_ALL)"
   ]
  },
  {
   "cell_type": "code",
   "execution_count": 463,
   "metadata": {},
   "outputs": [
    {
     "data": {
      "text/plain": [
       "BookID             object\n",
       "Recommendations    object\n",
       "dtype: object"
      ]
     },
     "execution_count": 463,
     "metadata": {},
     "output_type": "execute_result"
    }
   ],
   "source": [
    "recom_df.dtypes"
   ]
  },
  {
   "cell_type": "code",
   "execution_count": 467,
   "metadata": {},
   "outputs": [],
   "source": [
    "r_df = recom_df.copy()"
   ]
  },
  {
   "cell_type": "code",
   "execution_count": 462,
   "metadata": {},
   "outputs": [],
   "source": []
  },
  {
   "cell_type": "code",
   "execution_count": 475,
   "metadata": {},
   "outputs": [],
   "source": [
    "r_df[['1','2','3','4','5','6','7','8','9','10']] = r_df['Recommendations'].str.split(',',expand=True)"
   ]
  },
  {
   "cell_type": "code",
   "execution_count": 481,
   "metadata": {},
   "outputs": [
    {
     "data": {
      "text/html": [
       "<div>\n",
       "<style scoped>\n",
       "    .dataframe tbody tr th:only-of-type {\n",
       "        vertical-align: middle;\n",
       "    }\n",
       "\n",
       "    .dataframe tbody tr th {\n",
       "        vertical-align: top;\n",
       "    }\n",
       "\n",
       "    .dataframe thead th {\n",
       "        text-align: right;\n",
       "    }\n",
       "</style>\n",
       "<table border=\"1\" class=\"dataframe\">\n",
       "  <thead>\n",
       "    <tr style=\"text-align: right;\">\n",
       "      <th></th>\n",
       "      <th>BookID</th>\n",
       "      <th>1</th>\n",
       "      <th>2</th>\n",
       "      <th>3</th>\n",
       "      <th>4</th>\n",
       "      <th>5</th>\n",
       "      <th>6</th>\n",
       "      <th>7</th>\n",
       "      <th>8</th>\n",
       "      <th>9</th>\n",
       "      <th>10</th>\n",
       "    </tr>\n",
       "  </thead>\n",
       "  <tbody>\n",
       "    <tr>\n",
       "      <th>0</th>\n",
       "      <td>100075</td>\n",
       "      <td>179004</td>\n",
       "      <td>123373</td>\n",
       "      <td>123203</td>\n",
       "      <td>173264</td>\n",
       "      <td>134563</td>\n",
       "      <td>141325</td>\n",
       "      <td>133443</td>\n",
       "      <td>130390</td>\n",
       "      <td>173551</td>\n",
       "      <td>136824</td>\n",
       "    </tr>\n",
       "    <tr>\n",
       "      <th>1</th>\n",
       "      <td>100080</td>\n",
       "      <td>155103</td>\n",
       "      <td>127616</td>\n",
       "      <td>172503</td>\n",
       "      <td>129475</td>\n",
       "      <td>125368</td>\n",
       "      <td>147894</td>\n",
       "      <td>164931</td>\n",
       "      <td>143914</td>\n",
       "      <td>104018</td>\n",
       "      <td>109538</td>\n",
       "    </tr>\n",
       "    <tr>\n",
       "      <th>2</th>\n",
       "      <td>100086</td>\n",
       "      <td>169243</td>\n",
       "      <td>156728</td>\n",
       "      <td>123203</td>\n",
       "      <td>173264</td>\n",
       "      <td>134563</td>\n",
       "      <td>141325</td>\n",
       "      <td>129944</td>\n",
       "      <td>173551</td>\n",
       "      <td>139128</td>\n",
       "      <td>148942</td>\n",
       "    </tr>\n",
       "    <tr>\n",
       "      <th>3</th>\n",
       "      <td>100104</td>\n",
       "      <td>126752</td>\n",
       "      <td>131233</td>\n",
       "      <td>104657</td>\n",
       "      <td>137665</td>\n",
       "      <td>107611</td>\n",
       "      <td>126661</td>\n",
       "      <td>161780</td>\n",
       "      <td>115795</td>\n",
       "      <td>134525</td>\n",
       "      <td>131196</td>\n",
       "    </tr>\n",
       "    <tr>\n",
       "      <th>4</th>\n",
       "      <td>100106</td>\n",
       "      <td>126587</td>\n",
       "      <td>166252</td>\n",
       "      <td>165392</td>\n",
       "      <td>173377</td>\n",
       "      <td>167058</td>\n",
       "      <td>144850</td>\n",
       "      <td>158378</td>\n",
       "      <td>152621</td>\n",
       "      <td>143596</td>\n",
       "      <td>121184</td>\n",
       "    </tr>\n",
       "  </tbody>\n",
       "</table>\n",
       "</div>"
      ],
      "text/plain": [
       "   BookID       1       2       3       4       5       6       7       8  \\\n",
       "0  100075  179004  123373  123203  173264  134563  141325  133443  130390   \n",
       "1  100080  155103  127616  172503  129475  125368  147894  164931  143914   \n",
       "2  100086  169243  156728  123203  173264  134563  141325  129944  173551   \n",
       "3  100104  126752  131233  104657  137665  107611  126661  161780  115795   \n",
       "4  100106  126587  166252  165392  173377  167058  144850  158378  152621   \n",
       "\n",
       "        9      10  \n",
       "0  173551  136824  \n",
       "1  104018  109538  \n",
       "2  139128  148942  \n",
       "3  134525  131196  \n",
       "4  143596  121184  "
      ]
     },
     "execution_count": 481,
     "metadata": {},
     "output_type": "execute_result"
    }
   ],
   "source": [
    "r_df.head(5)"
   ]
  },
  {
   "cell_type": "code",
   "execution_count": 477,
   "metadata": {},
   "outputs": [],
   "source": [
    "r_df.to_csv('../Data/Output/r_df.csv')"
   ]
  },
  {
   "cell_type": "code",
   "execution_count": 480,
   "metadata": {},
   "outputs": [],
   "source": [
    "r_df.drop(['Recommendations'],axis=1, inplace=True)"
   ]
  },
  {
   "cell_type": "markdown",
   "metadata": {},
   "source": [
    "## Predicting books for users in Master train file"
   ]
  },
  {
   "cell_type": "code",
   "execution_count": 483,
   "metadata": {},
   "outputs": [],
   "source": [
    "train_predictions = df_master_to_rate[['UserID','BookID']].copy()"
   ]
  },
  {
   "cell_type": "code",
   "execution_count": 486,
   "metadata": {},
   "outputs": [
    {
     "data": {
      "text/html": [
       "<div>\n",
       "<style scoped>\n",
       "    .dataframe tbody tr th:only-of-type {\n",
       "        vertical-align: middle;\n",
       "    }\n",
       "\n",
       "    .dataframe tbody tr th {\n",
       "        vertical-align: top;\n",
       "    }\n",
       "\n",
       "    .dataframe thead th {\n",
       "        text-align: right;\n",
       "    }\n",
       "</style>\n",
       "<table border=\"1\" class=\"dataframe\">\n",
       "  <thead>\n",
       "    <tr style=\"text-align: right;\">\n",
       "      <th></th>\n",
       "      <th>UserID</th>\n",
       "      <th>BookID</th>\n",
       "    </tr>\n",
       "  </thead>\n",
       "  <tbody>\n",
       "    <tr>\n",
       "      <th>0</th>\n",
       "      <td>646637</td>\n",
       "      <td>112318</td>\n",
       "    </tr>\n",
       "    <tr>\n",
       "      <th>1</th>\n",
       "      <td>621033</td>\n",
       "      <td>119228</td>\n",
       "    </tr>\n",
       "    <tr>\n",
       "      <th>2</th>\n",
       "      <td>667563</td>\n",
       "      <td>141194</td>\n",
       "    </tr>\n",
       "    <tr>\n",
       "      <th>3</th>\n",
       "      <td>656318</td>\n",
       "      <td>119228</td>\n",
       "    </tr>\n",
       "    <tr>\n",
       "      <th>4</th>\n",
       "      <td>662455</td>\n",
       "      <td>134452</td>\n",
       "    </tr>\n",
       "  </tbody>\n",
       "</table>\n",
       "</div>"
      ],
      "text/plain": [
       "   UserID  BookID\n",
       "0  646637  112318\n",
       "1  621033  119228\n",
       "2  667563  141194\n",
       "3  656318  119228\n",
       "4  662455  134452"
      ]
     },
     "execution_count": 486,
     "metadata": {},
     "output_type": "execute_result"
    }
   ],
   "source": [
    "train_predictions.head()"
   ]
  },
  {
   "cell_type": "code",
   "execution_count": 485,
   "metadata": {},
   "outputs": [
    {
     "data": {
      "text/plain": [
       "(12628, 2)"
      ]
     },
     "execution_count": 485,
     "metadata": {},
     "output_type": "execute_result"
    }
   ],
   "source": [
    "train_predictions.shape"
   ]
  },
  {
   "cell_type": "code",
   "execution_count": 487,
   "metadata": {},
   "outputs": [],
   "source": [
    "train_predictions_mergerd = pd.merge(train_predictions, r_df, on='BookID', how='inner')"
   ]
  },
  {
   "cell_type": "code",
   "execution_count": 488,
   "metadata": {},
   "outputs": [
    {
     "data": {
      "text/plain": [
       "(12628, 12)"
      ]
     },
     "execution_count": 488,
     "metadata": {},
     "output_type": "execute_result"
    }
   ],
   "source": [
    "train_predictions_mergerd.shape"
   ]
  },
  {
   "cell_type": "code",
   "execution_count": 489,
   "metadata": {},
   "outputs": [
    {
     "data": {
      "text/html": [
       "<div>\n",
       "<style scoped>\n",
       "    .dataframe tbody tr th:only-of-type {\n",
       "        vertical-align: middle;\n",
       "    }\n",
       "\n",
       "    .dataframe tbody tr th {\n",
       "        vertical-align: top;\n",
       "    }\n",
       "\n",
       "    .dataframe thead th {\n",
       "        text-align: right;\n",
       "    }\n",
       "</style>\n",
       "<table border=\"1\" class=\"dataframe\">\n",
       "  <thead>\n",
       "    <tr style=\"text-align: right;\">\n",
       "      <th></th>\n",
       "      <th>UserID</th>\n",
       "      <th>BookID</th>\n",
       "      <th>1</th>\n",
       "      <th>2</th>\n",
       "      <th>3</th>\n",
       "      <th>4</th>\n",
       "      <th>5</th>\n",
       "      <th>6</th>\n",
       "      <th>7</th>\n",
       "      <th>8</th>\n",
       "      <th>9</th>\n",
       "      <th>10</th>\n",
       "    </tr>\n",
       "  </thead>\n",
       "  <tbody>\n",
       "    <tr>\n",
       "      <th>0</th>\n",
       "      <td>646637</td>\n",
       "      <td>112318</td>\n",
       "      <td>152447</td>\n",
       "      <td>165998</td>\n",
       "      <td>163740</td>\n",
       "      <td>113159</td>\n",
       "      <td>156638</td>\n",
       "      <td>102128</td>\n",
       "      <td>124775</td>\n",
       "      <td>122295</td>\n",
       "      <td>139128</td>\n",
       "      <td>162878</td>\n",
       "    </tr>\n",
       "    <tr>\n",
       "      <th>1</th>\n",
       "      <td>657735</td>\n",
       "      <td>112318</td>\n",
       "      <td>152447</td>\n",
       "      <td>165998</td>\n",
       "      <td>163740</td>\n",
       "      <td>113159</td>\n",
       "      <td>156638</td>\n",
       "      <td>102128</td>\n",
       "      <td>124775</td>\n",
       "      <td>122295</td>\n",
       "      <td>139128</td>\n",
       "      <td>162878</td>\n",
       "    </tr>\n",
       "    <tr>\n",
       "      <th>2</th>\n",
       "      <td>607478</td>\n",
       "      <td>112318</td>\n",
       "      <td>152447</td>\n",
       "      <td>165998</td>\n",
       "      <td>163740</td>\n",
       "      <td>113159</td>\n",
       "      <td>156638</td>\n",
       "      <td>102128</td>\n",
       "      <td>124775</td>\n",
       "      <td>122295</td>\n",
       "      <td>139128</td>\n",
       "      <td>162878</td>\n",
       "    </tr>\n",
       "    <tr>\n",
       "      <th>3</th>\n",
       "      <td>621033</td>\n",
       "      <td>119228</td>\n",
       "      <td>100727</td>\n",
       "      <td>168509</td>\n",
       "      <td>127652</td>\n",
       "      <td>127616</td>\n",
       "      <td>177441</td>\n",
       "      <td>129218</td>\n",
       "      <td>142477</td>\n",
       "      <td>113594</td>\n",
       "      <td>165976</td>\n",
       "      <td>165523</td>\n",
       "    </tr>\n",
       "    <tr>\n",
       "      <th>4</th>\n",
       "      <td>656318</td>\n",
       "      <td>119228</td>\n",
       "      <td>100727</td>\n",
       "      <td>168509</td>\n",
       "      <td>127652</td>\n",
       "      <td>127616</td>\n",
       "      <td>177441</td>\n",
       "      <td>129218</td>\n",
       "      <td>142477</td>\n",
       "      <td>113594</td>\n",
       "      <td>165976</td>\n",
       "      <td>165523</td>\n",
       "    </tr>\n",
       "  </tbody>\n",
       "</table>\n",
       "</div>"
      ],
      "text/plain": [
       "   UserID  BookID       1       2       3       4       5       6       7  \\\n",
       "0  646637  112318  152447  165998  163740  113159  156638  102128  124775   \n",
       "1  657735  112318  152447  165998  163740  113159  156638  102128  124775   \n",
       "2  607478  112318  152447  165998  163740  113159  156638  102128  124775   \n",
       "3  621033  119228  100727  168509  127652  127616  177441  129218  142477   \n",
       "4  656318  119228  100727  168509  127652  127616  177441  129218  142477   \n",
       "\n",
       "        8       9      10  \n",
       "0  122295  139128  162878  \n",
       "1  122295  139128  162878  \n",
       "2  122295  139128  162878  \n",
       "3  113594  165976  165523  \n",
       "4  113594  165976  165523  "
      ]
     },
     "execution_count": 489,
     "metadata": {},
     "output_type": "execute_result"
    }
   ],
   "source": [
    "train_predictions_mergerd.head()"
   ]
  },
  {
   "cell_type": "code",
   "execution_count": 490,
   "metadata": {},
   "outputs": [],
   "source": [
    "train_predictions_mergerd.to_csv('../Data/Output/train_predictions_mergerd.csv')"
   ]
  },
  {
   "cell_type": "markdown",
   "metadata": {},
   "source": [
    "## Making prediction on missing data"
   ]
  },
  {
   "cell_type": "code",
   "execution_count": 526,
   "metadata": {},
   "outputs": [],
   "source": [
    "df_missing =pd.read_csv('C://Users//rupadhyay//Desktop//ML//Analytics Summit Bibliotheca E Book subscription prediction//Data//New//MISSING.csv',encoding='latin1')"
   ]
  },
  {
   "cell_type": "code",
   "execution_count": null,
   "metadata": {},
   "outputs": [],
   "source": []
  },
  {
   "cell_type": "code",
   "execution_count": 527,
   "metadata": {},
   "outputs": [
    {
     "data": {
      "text/html": [
       "<div>\n",
       "<style scoped>\n",
       "    .dataframe tbody tr th:only-of-type {\n",
       "        vertical-align: middle;\n",
       "    }\n",
       "\n",
       "    .dataframe tbody tr th {\n",
       "        vertical-align: top;\n",
       "    }\n",
       "\n",
       "    .dataframe thead th {\n",
       "        text-align: right;\n",
       "    }\n",
       "</style>\n",
       "<table border=\"1\" class=\"dataframe\">\n",
       "  <thead>\n",
       "    <tr style=\"text-align: right;\">\n",
       "      <th></th>\n",
       "      <th>UserID</th>\n",
       "    </tr>\n",
       "  </thead>\n",
       "  <tbody>\n",
       "    <tr>\n",
       "      <th>0</th>\n",
       "      <td>600072</td>\n",
       "    </tr>\n",
       "    <tr>\n",
       "      <th>1</th>\n",
       "      <td>600079</td>\n",
       "    </tr>\n",
       "    <tr>\n",
       "      <th>2</th>\n",
       "      <td>600099</td>\n",
       "    </tr>\n",
       "    <tr>\n",
       "      <th>3</th>\n",
       "      <td>600152</td>\n",
       "    </tr>\n",
       "    <tr>\n",
       "      <th>4</th>\n",
       "      <td>600158</td>\n",
       "    </tr>\n",
       "  </tbody>\n",
       "</table>\n",
       "</div>"
      ],
      "text/plain": [
       "   UserID\n",
       "0  600072\n",
       "1  600079\n",
       "2  600099\n",
       "3  600152\n",
       "4  600158"
      ]
     },
     "execution_count": 527,
     "metadata": {},
     "output_type": "execute_result"
    }
   ],
   "source": [
    "df_missing.head()"
   ]
  },
  {
   "cell_type": "code",
   "execution_count": 493,
   "metadata": {},
   "outputs": [],
   "source": [
    "df_usr_mstr =pd.read_csv('C://Users//rupadhyay//Desktop//ML//Analytics Summit Bibliotheca E Book subscription prediction//Data//USERMASTER.csv',encoding='latin1')"
   ]
  },
  {
   "cell_type": "code",
   "execution_count": 528,
   "metadata": {},
   "outputs": [],
   "source": [
    "df_missing_data = pd.merge(df_missing, df_usr_mstr, on='UserID', how='inner')"
   ]
  },
  {
   "cell_type": "code",
   "execution_count": 529,
   "metadata": {},
   "outputs": [
    {
     "data": {
      "text/plain": [
       "(2372, 6)"
      ]
     },
     "execution_count": 529,
     "metadata": {},
     "output_type": "execute_result"
    }
   ],
   "source": [
    "df_missing_data.shape"
   ]
  },
  {
   "cell_type": "code",
   "execution_count": 530,
   "metadata": {},
   "outputs": [
    {
     "data": {
      "text/html": [
       "<div>\n",
       "<style scoped>\n",
       "    .dataframe tbody tr th:only-of-type {\n",
       "        vertical-align: middle;\n",
       "    }\n",
       "\n",
       "    .dataframe tbody tr th {\n",
       "        vertical-align: top;\n",
       "    }\n",
       "\n",
       "    .dataframe thead th {\n",
       "        text-align: right;\n",
       "    }\n",
       "</style>\n",
       "<table border=\"1\" class=\"dataframe\">\n",
       "  <thead>\n",
       "    <tr style=\"text-align: right;\">\n",
       "      <th></th>\n",
       "      <th>UserID</th>\n",
       "      <th>SIGNUPDATE</th>\n",
       "      <th>DELETED</th>\n",
       "      <th>AGEGROUP</th>\n",
       "      <th>GENDER</th>\n",
       "      <th>STATE</th>\n",
       "    </tr>\n",
       "  </thead>\n",
       "  <tbody>\n",
       "    <tr>\n",
       "      <th>0</th>\n",
       "      <td>600072</td>\n",
       "      <td>2018-08-20 03:00:30</td>\n",
       "      <td>NaN</td>\n",
       "      <td>49.0</td>\n",
       "      <td>FEMALE</td>\n",
       "      <td>NaN</td>\n",
       "    </tr>\n",
       "    <tr>\n",
       "      <th>1</th>\n",
       "      <td>600079</td>\n",
       "      <td>2018-09-21 20:33:30</td>\n",
       "      <td>NaN</td>\n",
       "      <td>53.0</td>\n",
       "      <td>FEMALE</td>\n",
       "      <td>NaN</td>\n",
       "    </tr>\n",
       "    <tr>\n",
       "      <th>2</th>\n",
       "      <td>600099</td>\n",
       "      <td>2017-04-16 15:31:23</td>\n",
       "      <td>NaN</td>\n",
       "      <td>27.0</td>\n",
       "      <td>MALE</td>\n",
       "      <td>Georgia</td>\n",
       "    </tr>\n",
       "    <tr>\n",
       "      <th>3</th>\n",
       "      <td>600152</td>\n",
       "      <td>2018-09-07 00:35:51</td>\n",
       "      <td>NaN</td>\n",
       "      <td>37.0</td>\n",
       "      <td>MALE</td>\n",
       "      <td>Ohio</td>\n",
       "    </tr>\n",
       "    <tr>\n",
       "      <th>4</th>\n",
       "      <td>600158</td>\n",
       "      <td>2018-01-29 21:57:59</td>\n",
       "      <td>NaN</td>\n",
       "      <td>33.0</td>\n",
       "      <td>MALE</td>\n",
       "      <td>North Carolina</td>\n",
       "    </tr>\n",
       "  </tbody>\n",
       "</table>\n",
       "</div>"
      ],
      "text/plain": [
       "   UserID           SIGNUPDATE DELETED  AGEGROUP  GENDER           STATE\n",
       "0  600072  2018-08-20 03:00:30     NaN      49.0  FEMALE             NaN\n",
       "1  600079  2018-09-21 20:33:30     NaN      53.0  FEMALE             NaN\n",
       "2  600099  2017-04-16 15:31:23     NaN      27.0    MALE         Georgia\n",
       "3  600152  2018-09-07 00:35:51     NaN      37.0    MALE            Ohio\n",
       "4  600158  2018-01-29 21:57:59     NaN      33.0    MALE  North Carolina"
      ]
     },
     "execution_count": 530,
     "metadata": {},
     "output_type": "execute_result"
    }
   ],
   "source": [
    "df_missing_data.head()"
   ]
  },
  {
   "cell_type": "code",
   "execution_count": 531,
   "metadata": {},
   "outputs": [],
   "source": [
    "df_missing_data = df_missing_data [['UserID','AGEGROUP','GENDER']]"
   ]
  },
  {
   "cell_type": "code",
   "execution_count": 532,
   "metadata": {},
   "outputs": [
    {
     "data": {
      "text/html": [
       "<div>\n",
       "<style scoped>\n",
       "    .dataframe tbody tr th:only-of-type {\n",
       "        vertical-align: middle;\n",
       "    }\n",
       "\n",
       "    .dataframe tbody tr th {\n",
       "        vertical-align: top;\n",
       "    }\n",
       "\n",
       "    .dataframe thead th {\n",
       "        text-align: right;\n",
       "    }\n",
       "</style>\n",
       "<table border=\"1\" class=\"dataframe\">\n",
       "  <thead>\n",
       "    <tr style=\"text-align: right;\">\n",
       "      <th></th>\n",
       "      <th>UserID</th>\n",
       "      <th>AGEGROUP</th>\n",
       "      <th>GENDER</th>\n",
       "    </tr>\n",
       "  </thead>\n",
       "  <tbody>\n",
       "    <tr>\n",
       "      <th>0</th>\n",
       "      <td>600072</td>\n",
       "      <td>49.0</td>\n",
       "      <td>FEMALE</td>\n",
       "    </tr>\n",
       "    <tr>\n",
       "      <th>1</th>\n",
       "      <td>600079</td>\n",
       "      <td>53.0</td>\n",
       "      <td>FEMALE</td>\n",
       "    </tr>\n",
       "    <tr>\n",
       "      <th>2</th>\n",
       "      <td>600099</td>\n",
       "      <td>27.0</td>\n",
       "      <td>MALE</td>\n",
       "    </tr>\n",
       "    <tr>\n",
       "      <th>3</th>\n",
       "      <td>600152</td>\n",
       "      <td>37.0</td>\n",
       "      <td>MALE</td>\n",
       "    </tr>\n",
       "    <tr>\n",
       "      <th>4</th>\n",
       "      <td>600158</td>\n",
       "      <td>33.0</td>\n",
       "      <td>MALE</td>\n",
       "    </tr>\n",
       "  </tbody>\n",
       "</table>\n",
       "</div>"
      ],
      "text/plain": [
       "   UserID  AGEGROUP  GENDER\n",
       "0  600072      49.0  FEMALE\n",
       "1  600079      53.0  FEMALE\n",
       "2  600099      27.0    MALE\n",
       "3  600152      37.0    MALE\n",
       "4  600158      33.0    MALE"
      ]
     },
     "execution_count": 532,
     "metadata": {},
     "output_type": "execute_result"
    }
   ],
   "source": [
    "df_missing_data.head()"
   ]
  },
  {
   "cell_type": "code",
   "execution_count": 533,
   "metadata": {},
   "outputs": [],
   "source": [
    "def categorize_age(age):\n",
    "    if age < 18: return '0-17'\n",
    "    elif age < 25: return '18-24'\n",
    "    elif age < 35: return '25-34'\n",
    "    elif age < 45: return '35-44'\n",
    "    elif age < 55: return '45-54'\n",
    "    elif age < 65: return '55-64'\n",
    "    else: return '65+'\n",
    " "
   ]
  },
  {
   "cell_type": "code",
   "execution_count": 534,
   "metadata": {},
   "outputs": [],
   "source": [
    "df_missing_data['AGEGROUP'] = df_missing_data.AGEGROUP.apply(lambda x:categorize_age(x))"
   ]
  },
  {
   "cell_type": "code",
   "execution_count": 535,
   "metadata": {},
   "outputs": [],
   "source": [
    "from sklearn.preprocessing import Imputer, LabelEncoder\n",
    "df_missing_data['GENDER'] = LabelEncoder().fit_transform(df_missing_data['GENDER'])\n",
    "df_missing_data['AGEGROUP'] = LabelEncoder().fit_transform(df_missing_data['AGEGROUP'])"
   ]
  },
  {
   "cell_type": "code",
   "execution_count": 505,
   "metadata": {},
   "outputs": [],
   "source": [
    "df_book_age_highest_rating =pd.read_csv('C://Users//rupadhyay//Desktop//ML//Analytics Summit Bibliotheca E Book subscription prediction//Data//Output//df_book_age_highest.csv',encoding='latin1')"
   ]
  },
  {
   "cell_type": "code",
   "execution_count": 536,
   "metadata": {},
   "outputs": [],
   "source": [
    "df_missing_merge = pd.merge(df_missing_data, df_book_age_highest_rating, on=('AGEGROUP','GENDER'), how='inner')"
   ]
  },
  {
   "cell_type": "code",
   "execution_count": 537,
   "metadata": {},
   "outputs": [
    {
     "data": {
      "text/html": [
       "<div>\n",
       "<style scoped>\n",
       "    .dataframe tbody tr th:only-of-type {\n",
       "        vertical-align: middle;\n",
       "    }\n",
       "\n",
       "    .dataframe tbody tr th {\n",
       "        vertical-align: top;\n",
       "    }\n",
       "\n",
       "    .dataframe thead th {\n",
       "        text-align: right;\n",
       "    }\n",
       "</style>\n",
       "<table border=\"1\" class=\"dataframe\">\n",
       "  <thead>\n",
       "    <tr style=\"text-align: right;\">\n",
       "      <th></th>\n",
       "      <th>UserID</th>\n",
       "      <th>AGEGROUP</th>\n",
       "      <th>GENDER</th>\n",
       "      <th>Unnamed: 0</th>\n",
       "      <th>BookID</th>\n",
       "    </tr>\n",
       "  </thead>\n",
       "  <tbody>\n",
       "    <tr>\n",
       "      <th>0</th>\n",
       "      <td>600072</td>\n",
       "      <td>4</td>\n",
       "      <td>0</td>\n",
       "      <td>163854</td>\n",
       "      <td>112318</td>\n",
       "    </tr>\n",
       "    <tr>\n",
       "      <th>1</th>\n",
       "      <td>600079</td>\n",
       "      <td>4</td>\n",
       "      <td>0</td>\n",
       "      <td>163854</td>\n",
       "      <td>112318</td>\n",
       "    </tr>\n",
       "    <tr>\n",
       "      <th>2</th>\n",
       "      <td>600162</td>\n",
       "      <td>4</td>\n",
       "      <td>0</td>\n",
       "      <td>163854</td>\n",
       "      <td>112318</td>\n",
       "    </tr>\n",
       "    <tr>\n",
       "      <th>3</th>\n",
       "      <td>600501</td>\n",
       "      <td>4</td>\n",
       "      <td>0</td>\n",
       "      <td>163854</td>\n",
       "      <td>112318</td>\n",
       "    </tr>\n",
       "    <tr>\n",
       "      <th>4</th>\n",
       "      <td>602030</td>\n",
       "      <td>4</td>\n",
       "      <td>0</td>\n",
       "      <td>163854</td>\n",
       "      <td>112318</td>\n",
       "    </tr>\n",
       "  </tbody>\n",
       "</table>\n",
       "</div>"
      ],
      "text/plain": [
       "   UserID  AGEGROUP  GENDER  Unnamed: 0  BookID\n",
       "0  600072         4       0      163854  112318\n",
       "1  600079         4       0      163854  112318\n",
       "2  600162         4       0      163854  112318\n",
       "3  600501         4       0      163854  112318\n",
       "4  602030         4       0      163854  112318"
      ]
     },
     "execution_count": 537,
     "metadata": {},
     "output_type": "execute_result"
    }
   ],
   "source": [
    "df_missing_merge.head()"
   ]
  },
  {
   "cell_type": "code",
   "execution_count": 538,
   "metadata": {},
   "outputs": [
    {
     "data": {
      "text/plain": [
       "(2372, 5)"
      ]
     },
     "execution_count": 538,
     "metadata": {},
     "output_type": "execute_result"
    }
   ],
   "source": [
    "df_missing_merge.shape"
   ]
  },
  {
   "cell_type": "code",
   "execution_count": 539,
   "metadata": {},
   "outputs": [],
   "source": [
    "df_missing_merge.drop(['AGEGROUP','GENDER','Unnamed: 0'], axis=1, inplace=True)"
   ]
  },
  {
   "cell_type": "code",
   "execution_count": 540,
   "metadata": {},
   "outputs": [
    {
     "data": {
      "text/plain": [
       "UserID    int64\n",
       "BookID    int64\n",
       "dtype: object"
      ]
     },
     "execution_count": 540,
     "metadata": {},
     "output_type": "execute_result"
    }
   ],
   "source": [
    "df_missing_merge.dtypes"
   ]
  },
  {
   "cell_type": "code",
   "execution_count": 541,
   "metadata": {},
   "outputs": [],
   "source": [
    "df_missing_merge['BookID'] = df_missing_merge['BookID'].astype(str)\n",
    "df_missing_merge['UserID'] = df_missing_merge['UserID'].astype(str)"
   ]
  },
  {
   "cell_type": "code",
   "execution_count": 542,
   "metadata": {},
   "outputs": [],
   "source": [
    "missing_predictions_final = pd.merge(df_missing_merge, r_df, on='BookID', how='inner')"
   ]
  },
  {
   "cell_type": "code",
   "execution_count": 543,
   "metadata": {},
   "outputs": [
    {
     "data": {
      "text/html": [
       "<div>\n",
       "<style scoped>\n",
       "    .dataframe tbody tr th:only-of-type {\n",
       "        vertical-align: middle;\n",
       "    }\n",
       "\n",
       "    .dataframe tbody tr th {\n",
       "        vertical-align: top;\n",
       "    }\n",
       "\n",
       "    .dataframe thead th {\n",
       "        text-align: right;\n",
       "    }\n",
       "</style>\n",
       "<table border=\"1\" class=\"dataframe\">\n",
       "  <thead>\n",
       "    <tr style=\"text-align: right;\">\n",
       "      <th></th>\n",
       "      <th>UserID</th>\n",
       "      <th>BookID</th>\n",
       "      <th>1</th>\n",
       "      <th>2</th>\n",
       "      <th>3</th>\n",
       "      <th>4</th>\n",
       "      <th>5</th>\n",
       "      <th>6</th>\n",
       "      <th>7</th>\n",
       "      <th>8</th>\n",
       "      <th>9</th>\n",
       "      <th>10</th>\n",
       "    </tr>\n",
       "  </thead>\n",
       "  <tbody>\n",
       "    <tr>\n",
       "      <th>0</th>\n",
       "      <td>600072</td>\n",
       "      <td>112318</td>\n",
       "      <td>152447</td>\n",
       "      <td>165998</td>\n",
       "      <td>163740</td>\n",
       "      <td>113159</td>\n",
       "      <td>156638</td>\n",
       "      <td>102128</td>\n",
       "      <td>124775</td>\n",
       "      <td>122295</td>\n",
       "      <td>139128</td>\n",
       "      <td>162878</td>\n",
       "    </tr>\n",
       "    <tr>\n",
       "      <th>1</th>\n",
       "      <td>600079</td>\n",
       "      <td>112318</td>\n",
       "      <td>152447</td>\n",
       "      <td>165998</td>\n",
       "      <td>163740</td>\n",
       "      <td>113159</td>\n",
       "      <td>156638</td>\n",
       "      <td>102128</td>\n",
       "      <td>124775</td>\n",
       "      <td>122295</td>\n",
       "      <td>139128</td>\n",
       "      <td>162878</td>\n",
       "    </tr>\n",
       "    <tr>\n",
       "      <th>2</th>\n",
       "      <td>600162</td>\n",
       "      <td>112318</td>\n",
       "      <td>152447</td>\n",
       "      <td>165998</td>\n",
       "      <td>163740</td>\n",
       "      <td>113159</td>\n",
       "      <td>156638</td>\n",
       "      <td>102128</td>\n",
       "      <td>124775</td>\n",
       "      <td>122295</td>\n",
       "      <td>139128</td>\n",
       "      <td>162878</td>\n",
       "    </tr>\n",
       "    <tr>\n",
       "      <th>3</th>\n",
       "      <td>600501</td>\n",
       "      <td>112318</td>\n",
       "      <td>152447</td>\n",
       "      <td>165998</td>\n",
       "      <td>163740</td>\n",
       "      <td>113159</td>\n",
       "      <td>156638</td>\n",
       "      <td>102128</td>\n",
       "      <td>124775</td>\n",
       "      <td>122295</td>\n",
       "      <td>139128</td>\n",
       "      <td>162878</td>\n",
       "    </tr>\n",
       "    <tr>\n",
       "      <th>4</th>\n",
       "      <td>602030</td>\n",
       "      <td>112318</td>\n",
       "      <td>152447</td>\n",
       "      <td>165998</td>\n",
       "      <td>163740</td>\n",
       "      <td>113159</td>\n",
       "      <td>156638</td>\n",
       "      <td>102128</td>\n",
       "      <td>124775</td>\n",
       "      <td>122295</td>\n",
       "      <td>139128</td>\n",
       "      <td>162878</td>\n",
       "    </tr>\n",
       "  </tbody>\n",
       "</table>\n",
       "</div>"
      ],
      "text/plain": [
       "   UserID  BookID       1       2       3       4       5       6       7  \\\n",
       "0  600072  112318  152447  165998  163740  113159  156638  102128  124775   \n",
       "1  600079  112318  152447  165998  163740  113159  156638  102128  124775   \n",
       "2  600162  112318  152447  165998  163740  113159  156638  102128  124775   \n",
       "3  600501  112318  152447  165998  163740  113159  156638  102128  124775   \n",
       "4  602030  112318  152447  165998  163740  113159  156638  102128  124775   \n",
       "\n",
       "        8       9      10  \n",
       "0  122295  139128  162878  \n",
       "1  122295  139128  162878  \n",
       "2  122295  139128  162878  \n",
       "3  122295  139128  162878  \n",
       "4  122295  139128  162878  "
      ]
     },
     "execution_count": 543,
     "metadata": {},
     "output_type": "execute_result"
    }
   ],
   "source": [
    "missing_predictions_final.head()"
   ]
  },
  {
   "cell_type": "code",
   "execution_count": 544,
   "metadata": {},
   "outputs": [
    {
     "data": {
      "text/plain": [
       "(2372, 12)"
      ]
     },
     "execution_count": 544,
     "metadata": {},
     "output_type": "execute_result"
    }
   ],
   "source": [
    "missing_predictions_final.shape"
   ]
  },
  {
   "cell_type": "code",
   "execution_count": 545,
   "metadata": {},
   "outputs": [],
   "source": [
    "missing_predictions_final.to_csv('../Data/Output/missing_predictions_final.csv')  #Predictions for missing members"
   ]
  },
  {
   "cell_type": "code",
   "execution_count": 546,
   "metadata": {},
   "outputs": [],
   "source": [
    "predictions_final_append = train_predictions_mergerd.append(missing_predictions_final)"
   ]
  },
  {
   "cell_type": "code",
   "execution_count": 547,
   "metadata": {},
   "outputs": [
    {
     "data": {
      "text/plain": [
       "(15000, 12)"
      ]
     },
     "execution_count": 547,
     "metadata": {},
     "output_type": "execute_result"
    }
   ],
   "source": [
    "predictions_final_append.shape"
   ]
  },
  {
   "cell_type": "code",
   "execution_count": 548,
   "metadata": {},
   "outputs": [
    {
     "data": {
      "text/html": [
       "<div>\n",
       "<style scoped>\n",
       "    .dataframe tbody tr th:only-of-type {\n",
       "        vertical-align: middle;\n",
       "    }\n",
       "\n",
       "    .dataframe tbody tr th {\n",
       "        vertical-align: top;\n",
       "    }\n",
       "\n",
       "    .dataframe thead th {\n",
       "        text-align: right;\n",
       "    }\n",
       "</style>\n",
       "<table border=\"1\" class=\"dataframe\">\n",
       "  <thead>\n",
       "    <tr style=\"text-align: right;\">\n",
       "      <th></th>\n",
       "      <th>UserID</th>\n",
       "      <th>BookID</th>\n",
       "      <th>1</th>\n",
       "      <th>2</th>\n",
       "      <th>3</th>\n",
       "      <th>4</th>\n",
       "      <th>5</th>\n",
       "      <th>6</th>\n",
       "      <th>7</th>\n",
       "      <th>8</th>\n",
       "      <th>9</th>\n",
       "      <th>10</th>\n",
       "    </tr>\n",
       "  </thead>\n",
       "  <tbody>\n",
       "    <tr>\n",
       "      <th>0</th>\n",
       "      <td>646637</td>\n",
       "      <td>112318</td>\n",
       "      <td>152447</td>\n",
       "      <td>165998</td>\n",
       "      <td>163740</td>\n",
       "      <td>113159</td>\n",
       "      <td>156638</td>\n",
       "      <td>102128</td>\n",
       "      <td>124775</td>\n",
       "      <td>122295</td>\n",
       "      <td>139128</td>\n",
       "      <td>162878</td>\n",
       "    </tr>\n",
       "    <tr>\n",
       "      <th>1</th>\n",
       "      <td>657735</td>\n",
       "      <td>112318</td>\n",
       "      <td>152447</td>\n",
       "      <td>165998</td>\n",
       "      <td>163740</td>\n",
       "      <td>113159</td>\n",
       "      <td>156638</td>\n",
       "      <td>102128</td>\n",
       "      <td>124775</td>\n",
       "      <td>122295</td>\n",
       "      <td>139128</td>\n",
       "      <td>162878</td>\n",
       "    </tr>\n",
       "    <tr>\n",
       "      <th>2</th>\n",
       "      <td>607478</td>\n",
       "      <td>112318</td>\n",
       "      <td>152447</td>\n",
       "      <td>165998</td>\n",
       "      <td>163740</td>\n",
       "      <td>113159</td>\n",
       "      <td>156638</td>\n",
       "      <td>102128</td>\n",
       "      <td>124775</td>\n",
       "      <td>122295</td>\n",
       "      <td>139128</td>\n",
       "      <td>162878</td>\n",
       "    </tr>\n",
       "    <tr>\n",
       "      <th>3</th>\n",
       "      <td>621033</td>\n",
       "      <td>119228</td>\n",
       "      <td>100727</td>\n",
       "      <td>168509</td>\n",
       "      <td>127652</td>\n",
       "      <td>127616</td>\n",
       "      <td>177441</td>\n",
       "      <td>129218</td>\n",
       "      <td>142477</td>\n",
       "      <td>113594</td>\n",
       "      <td>165976</td>\n",
       "      <td>165523</td>\n",
       "    </tr>\n",
       "    <tr>\n",
       "      <th>4</th>\n",
       "      <td>656318</td>\n",
       "      <td>119228</td>\n",
       "      <td>100727</td>\n",
       "      <td>168509</td>\n",
       "      <td>127652</td>\n",
       "      <td>127616</td>\n",
       "      <td>177441</td>\n",
       "      <td>129218</td>\n",
       "      <td>142477</td>\n",
       "      <td>113594</td>\n",
       "      <td>165976</td>\n",
       "      <td>165523</td>\n",
       "    </tr>\n",
       "  </tbody>\n",
       "</table>\n",
       "</div>"
      ],
      "text/plain": [
       "   UserID  BookID       1       2       3       4       5       6       7  \\\n",
       "0  646637  112318  152447  165998  163740  113159  156638  102128  124775   \n",
       "1  657735  112318  152447  165998  163740  113159  156638  102128  124775   \n",
       "2  607478  112318  152447  165998  163740  113159  156638  102128  124775   \n",
       "3  621033  119228  100727  168509  127652  127616  177441  129218  142477   \n",
       "4  656318  119228  100727  168509  127652  127616  177441  129218  142477   \n",
       "\n",
       "        8       9      10  \n",
       "0  122295  139128  162878  \n",
       "1  122295  139128  162878  \n",
       "2  122295  139128  162878  \n",
       "3  113594  165976  165523  \n",
       "4  113594  165976  165523  "
      ]
     },
     "execution_count": 548,
     "metadata": {},
     "output_type": "execute_result"
    }
   ],
   "source": [
    "predictions_final_append.head()"
   ]
  },
  {
   "cell_type": "code",
   "execution_count": 549,
   "metadata": {},
   "outputs": [],
   "source": [
    "predictions_final_append.to_csv('../Data/Output/predictions_final_append.csv')  #Predictions for all members"
   ]
  },
  {
   "cell_type": "code",
   "execution_count": 553,
   "metadata": {},
   "outputs": [],
   "source": [
    "predictions_final_df = predictions_final_append.copy()"
   ]
  },
  {
   "cell_type": "code",
   "execution_count": 554,
   "metadata": {},
   "outputs": [],
   "source": [
    "predictions_final_df.drop(('BookID') ,axis=1, inplace=True)"
   ]
  },
  {
   "cell_type": "code",
   "execution_count": 555,
   "metadata": {},
   "outputs": [
    {
     "data": {
      "text/plain": [
       "(15000, 11)"
      ]
     },
     "execution_count": 555,
     "metadata": {},
     "output_type": "execute_result"
    }
   ],
   "source": [
    "predictions_final_df.shape"
   ]
  },
  {
   "cell_type": "code",
   "execution_count": 556,
   "metadata": {},
   "outputs": [],
   "source": [
    "predictions_final_df.to_csv('../Data/Output/predictions_final_df.csv')  #FINAL Predictions for all members"
   ]
  },
  {
   "cell_type": "code",
   "execution_count": null,
   "metadata": {},
   "outputs": [],
   "source": []
  }
 ],
 "metadata": {
  "kernelspec": {
   "display_name": "Python 3",
   "language": "python",
   "name": "python3"
  },
  "language_info": {
   "codemirror_mode": {
    "name": "ipython",
    "version": 3
   },
   "file_extension": ".py",
   "mimetype": "text/x-python",
   "name": "python",
   "nbconvert_exporter": "python",
   "pygments_lexer": "ipython3",
   "version": "3.6.5"
  }
 },
 "nbformat": 4,
 "nbformat_minor": 2
}
